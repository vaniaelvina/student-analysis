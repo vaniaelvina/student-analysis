{
 "cells": [
  {
   "cell_type": "markdown",
   "id": "6cdd91c7",
   "metadata": {},
   "source": [
    "# Student Performance Factor Analysis"
   ]
  },
  {
   "cell_type": "code",
   "execution_count": 1,
   "id": "1700ea4d",
   "metadata": {},
   "outputs": [],
   "source": [
    "# import libraries\n",
    "import pandas as pd\n",
    "import numpy as np\n",
    "import seaborn as sns\n",
    "import matplotlib.pyplot as plt\n",
    "from statsmodels.stats.proportion import proportions_ztest\n",
    "from scipy.stats import norm\n",
    "from scipy import stats"
   ]
  },
  {
   "cell_type": "code",
   "execution_count": 2,
   "id": "6e826b6c",
   "metadata": {},
   "outputs": [
    {
     "data": {
      "text/plain": [
       "Hours_Studied                  0\n",
       "Attendance                     0\n",
       "Parental_Involvement           0\n",
       "Access_to_Resources            0\n",
       "Extracurricular_Activities     0\n",
       "Sleep_Hours                    0\n",
       "Previous_Scores                0\n",
       "Motivation_Level               0\n",
       "Internet_Access                0\n",
       "Tutoring_Sessions              0\n",
       "Family_Income                  0\n",
       "Teacher_Quality               78\n",
       "School_Type                    0\n",
       "Peer_Influence                 0\n",
       "Physical_Activity              0\n",
       "Learning_Disabilities          0\n",
       "Parental_Education_Level      90\n",
       "Distance_from_Home            67\n",
       "Gender                         0\n",
       "Exam_Score                     0\n",
       "dtype: int64"
      ]
     },
     "execution_count": 2,
     "metadata": {},
     "output_type": "execute_result"
    }
   ],
   "source": [
    "# load data\n",
    "students = pd.read_csv(\"StudentPerformanceFactors.csv\")\n",
    "students.isnull().sum()"
   ]
  },
  {
   "cell_type": "code",
   "execution_count": 3,
   "id": "50378335",
   "metadata": {},
   "outputs": [
    {
     "data": {
      "text/html": [
       "<style type=\"text/css\">\n",
       "#T_48615 th {\n",
       "  text-align: left;\n",
       "}\n",
       "#T_48615_row0_col0, #T_48615_row0_col1, #T_48615_row1_col0, #T_48615_row1_col1, #T_48615_row2_col0, #T_48615_row2_col1, #T_48615_row3_col0, #T_48615_row3_col1, #T_48615_row4_col0, #T_48615_row4_col1, #T_48615_row5_col0, #T_48615_row5_col1, #T_48615_row6_col0, #T_48615_row6_col1, #T_48615_row7_col0, #T_48615_row7_col1, #T_48615_row8_col0, #T_48615_row8_col1, #T_48615_row9_col0, #T_48615_row9_col1, #T_48615_row10_col0, #T_48615_row10_col1, #T_48615_row11_col0, #T_48615_row11_col1, #T_48615_row12_col0, #T_48615_row12_col1, #T_48615_row13_col0, #T_48615_row13_col1, #T_48615_row14_col0, #T_48615_row14_col1, #T_48615_row15_col0, #T_48615_row15_col1, #T_48615_row16_col0, #T_48615_row16_col1, #T_48615_row17_col0, #T_48615_row17_col1, #T_48615_row18_col0, #T_48615_row18_col1, #T_48615_row19_col0, #T_48615_row19_col1 {\n",
       "  text-align: left;\n",
       "}\n",
       "</style>\n",
       "<table id=\"T_48615\">\n",
       "  <thead>\n",
       "    <tr>\n",
       "      <th id=\"T_48615_level0_col0\" class=\"col_heading level0 col0\" >Variable</th>\n",
       "      <th id=\"T_48615_level0_col1\" class=\"col_heading level0 col1\" >Description</th>\n",
       "    </tr>\n",
       "  </thead>\n",
       "  <tbody>\n",
       "    <tr>\n",
       "      <td id=\"T_48615_row0_col0\" class=\"data row0 col0\" >Hours_Studied</td>\n",
       "      <td id=\"T_48615_row0_col1\" class=\"data row0 col1\" >Number of hours spent studying per week.</td>\n",
       "    </tr>\n",
       "    <tr>\n",
       "      <td id=\"T_48615_row1_col0\" class=\"data row1 col0\" >Attendance</td>\n",
       "      <td id=\"T_48615_row1_col1\" class=\"data row1 col1\" >Percentage of classes attended.</td>\n",
       "    </tr>\n",
       "    <tr>\n",
       "      <td id=\"T_48615_row2_col0\" class=\"data row2 col0\" >Parental_Involvement</td>\n",
       "      <td id=\"T_48615_row2_col1\" class=\"data row2 col1\" >Level of parental involvement in the student's education (Low, Medium, High).</td>\n",
       "    </tr>\n",
       "    <tr>\n",
       "      <td id=\"T_48615_row3_col0\" class=\"data row3 col0\" >Access_to_Resources</td>\n",
       "      <td id=\"T_48615_row3_col1\" class=\"data row3 col1\" >Availability of educational resources (Low, Medium, High).</td>\n",
       "    </tr>\n",
       "    <tr>\n",
       "      <td id=\"T_48615_row4_col0\" class=\"data row4 col0\" >Extracurricular_Activities</td>\n",
       "      <td id=\"T_48615_row4_col1\" class=\"data row4 col1\" >Participation in extracurricular activities (Yes, No).</td>\n",
       "    </tr>\n",
       "    <tr>\n",
       "      <td id=\"T_48615_row5_col0\" class=\"data row5 col0\" >Sleep_Hours</td>\n",
       "      <td id=\"T_48615_row5_col1\" class=\"data row5 col1\" >Average number of hours of sleep per night.</td>\n",
       "    </tr>\n",
       "    <tr>\n",
       "      <td id=\"T_48615_row6_col0\" class=\"data row6 col0\" >Previous_Scores</td>\n",
       "      <td id=\"T_48615_row6_col1\" class=\"data row6 col1\" >Scores from previous exams.</td>\n",
       "    </tr>\n",
       "    <tr>\n",
       "      <td id=\"T_48615_row7_col0\" class=\"data row7 col0\" >Motivation_Level</td>\n",
       "      <td id=\"T_48615_row7_col1\" class=\"data row7 col1\" >Student's level of motivation (Low, Medium, High).</td>\n",
       "    </tr>\n",
       "    <tr>\n",
       "      <td id=\"T_48615_row8_col0\" class=\"data row8 col0\" >Internet_Access</td>\n",
       "      <td id=\"T_48615_row8_col1\" class=\"data row8 col1\" >Availability of internet access (Yes, No).</td>\n",
       "    </tr>\n",
       "    <tr>\n",
       "      <td id=\"T_48615_row9_col0\" class=\"data row9 col0\" >Tutoring_Sessions</td>\n",
       "      <td id=\"T_48615_row9_col1\" class=\"data row9 col1\" >Number of tutoring sessions attended per month.</td>\n",
       "    </tr>\n",
       "    <tr>\n",
       "      <td id=\"T_48615_row10_col0\" class=\"data row10 col0\" >Family_Income</td>\n",
       "      <td id=\"T_48615_row10_col1\" class=\"data row10 col1\" >Family income level (Low, Medium, High).</td>\n",
       "    </tr>\n",
       "    <tr>\n",
       "      <td id=\"T_48615_row11_col0\" class=\"data row11 col0\" >Teacher_Quality</td>\n",
       "      <td id=\"T_48615_row11_col1\" class=\"data row11 col1\" >Quality of the teachers (Low, Medium, High).</td>\n",
       "    </tr>\n",
       "    <tr>\n",
       "      <td id=\"T_48615_row12_col0\" class=\"data row12 col0\" >School_Type</td>\n",
       "      <td id=\"T_48615_row12_col1\" class=\"data row12 col1\" >Type of school attended (Public, Private).</td>\n",
       "    </tr>\n",
       "    <tr>\n",
       "      <td id=\"T_48615_row13_col0\" class=\"data row13 col0\" >Peer_Influence</td>\n",
       "      <td id=\"T_48615_row13_col1\" class=\"data row13 col1\" >Influence of peers on academic performance (Positive, Neutral, Negative).</td>\n",
       "    </tr>\n",
       "    <tr>\n",
       "      <td id=\"T_48615_row14_col0\" class=\"data row14 col0\" >Physical_Activity</td>\n",
       "      <td id=\"T_48615_row14_col1\" class=\"data row14 col1\" >Average number of hours of physical activity per week.</td>\n",
       "    </tr>\n",
       "    <tr>\n",
       "      <td id=\"T_48615_row15_col0\" class=\"data row15 col0\" >Learning_Disabilities</td>\n",
       "      <td id=\"T_48615_row15_col1\" class=\"data row15 col1\" >Presence of learning disabilities (Yes, No).</td>\n",
       "    </tr>\n",
       "    <tr>\n",
       "      <td id=\"T_48615_row16_col0\" class=\"data row16 col0\" >Parental_Education_Level</td>\n",
       "      <td id=\"T_48615_row16_col1\" class=\"data row16 col1\" >Highest education level of parents (High School, College, Postgraduate).</td>\n",
       "    </tr>\n",
       "    <tr>\n",
       "      <td id=\"T_48615_row17_col0\" class=\"data row17 col0\" >Distance_from_Home</td>\n",
       "      <td id=\"T_48615_row17_col1\" class=\"data row17 col1\" >Distance from home to school (Near, Moderate, Far).</td>\n",
       "    </tr>\n",
       "    <tr>\n",
       "      <td id=\"T_48615_row18_col0\" class=\"data row18 col0\" >Gender</td>\n",
       "      <td id=\"T_48615_row18_col1\" class=\"data row18 col1\" >Gender of the student (Male, Female).</td>\n",
       "    </tr>\n",
       "    <tr>\n",
       "      <td id=\"T_48615_row19_col0\" class=\"data row19 col0\" >Exam_Score</td>\n",
       "      <td id=\"T_48615_row19_col1\" class=\"data row19 col1\" >Final exam score.</td>\n",
       "    </tr>\n",
       "  </tbody>\n",
       "</table>\n"
      ],
      "text/plain": [
       "<pandas.io.formats.style.Styler at 0x2132431edc0>"
      ]
     },
     "metadata": {},
     "output_type": "display_data"
    }
   ],
   "source": [
    "import pandas as pd\n",
    "\n",
    "# Define the data\n",
    "data = {\n",
    "    'Variable': [\n",
    "        'Hours_Studied', 'Attendance', 'Parental_Involvement', 'Access_to_Resources', \n",
    "        'Extracurricular_Activities', 'Sleep_Hours', 'Previous_Scores', 'Motivation_Level', \n",
    "        'Internet_Access', 'Tutoring_Sessions', 'Family_Income', 'Teacher_Quality', \n",
    "        'School_Type', 'Peer_Influence', 'Physical_Activity', 'Learning_Disabilities', \n",
    "        'Parental_Education_Level', 'Distance_from_Home', 'Gender', 'Exam_Score'\n",
    "    ],\n",
    "    'Description': [\n",
    "        'Number of hours spent studying per week.', 'Percentage of classes attended.', \n",
    "        'Level of parental involvement in the student\\'s education (Low, Medium, High).', \n",
    "        'Availability of educational resources (Low, Medium, High).', \n",
    "        'Participation in extracurricular activities (Yes, No).', \n",
    "        'Average number of hours of sleep per night.', 'Scores from previous exams.', \n",
    "        'Student\\'s level of motivation (Low, Medium, High).', \n",
    "        'Availability of internet access (Yes, No).', \n",
    "        'Number of tutoring sessions attended per month.', \n",
    "        'Family income level (Low, Medium, High).', \n",
    "        'Quality of the teachers (Low, Medium, High).', \n",
    "        'Type of school attended (Public, Private).', \n",
    "        'Influence of peers on academic performance (Positive, Neutral, Negative).', \n",
    "        'Average number of hours of physical activity per week.', \n",
    "        'Presence of learning disabilities (Yes, No).', \n",
    "        'Highest education level of parents (High School, College, Postgraduate).', \n",
    "        'Distance from home to school (Near, Moderate, Far).', \n",
    "        'Gender of the student (Male, Female).', 'Final exam score.'\n",
    "    ]\n",
    "}\n",
    "\n",
    "# Create DataFrame\n",
    "df = pd.DataFrame(data)\n",
    "\n",
    "# Apply left alignment to headers and remove index\n",
    "styled_df = df.style.set_properties(**{'text-align': 'left'}).set_table_styles([{'selector': 'th', 'props': [('text-align', 'left')]}])\n",
    "\n",
    "# Display DataFrame without index\n",
    "display(styled_df.hide(axis='index'))\n"
   ]
  },
  {
   "cell_type": "code",
   "execution_count": 4,
   "id": "2968bd1b",
   "metadata": {},
   "outputs": [
    {
     "data": {
      "text/html": [
       "<div>\n",
       "<style scoped>\n",
       "    .dataframe tbody tr th:only-of-type {\n",
       "        vertical-align: middle;\n",
       "    }\n",
       "\n",
       "    .dataframe tbody tr th {\n",
       "        vertical-align: top;\n",
       "    }\n",
       "\n",
       "    .dataframe thead th {\n",
       "        text-align: right;\n",
       "    }\n",
       "</style>\n",
       "<table border=\"1\" class=\"dataframe\">\n",
       "  <thead>\n",
       "    <tr style=\"text-align: right;\">\n",
       "      <th></th>\n",
       "      <th>Hours_Studied</th>\n",
       "      <th>Attendance</th>\n",
       "      <th>Parental_Involvement</th>\n",
       "      <th>Access_to_Resources</th>\n",
       "      <th>Extracurricular_Activities</th>\n",
       "      <th>Sleep_Hours</th>\n",
       "      <th>Previous_Scores</th>\n",
       "      <th>Motivation_Level</th>\n",
       "      <th>Internet_Access</th>\n",
       "      <th>Tutoring_Sessions</th>\n",
       "      <th>Family_Income</th>\n",
       "      <th>Teacher_Quality</th>\n",
       "      <th>School_Type</th>\n",
       "      <th>Peer_Influence</th>\n",
       "      <th>Physical_Activity</th>\n",
       "      <th>Learning_Disabilities</th>\n",
       "      <th>Parental_Education_Level</th>\n",
       "      <th>Distance_from_Home</th>\n",
       "      <th>Gender</th>\n",
       "      <th>Exam_Score</th>\n",
       "    </tr>\n",
       "  </thead>\n",
       "  <tbody>\n",
       "    <tr>\n",
       "      <th>1525</th>\n",
       "      <td>27</td>\n",
       "      <td>98</td>\n",
       "      <td>Low</td>\n",
       "      <td>Medium</td>\n",
       "      <td>Yes</td>\n",
       "      <td>6</td>\n",
       "      <td>93</td>\n",
       "      <td>Low</td>\n",
       "      <td>No</td>\n",
       "      <td>5</td>\n",
       "      <td>High</td>\n",
       "      <td>High</td>\n",
       "      <td>Public</td>\n",
       "      <td>Positive</td>\n",
       "      <td>3</td>\n",
       "      <td>No</td>\n",
       "      <td>High School</td>\n",
       "      <td>Moderate</td>\n",
       "      <td>Female</td>\n",
       "      <td>101</td>\n",
       "    </tr>\n",
       "    <tr>\n",
       "      <th>94</th>\n",
       "      <td>18</td>\n",
       "      <td>89</td>\n",
       "      <td>High</td>\n",
       "      <td>Medium</td>\n",
       "      <td>Yes</td>\n",
       "      <td>4</td>\n",
       "      <td>73</td>\n",
       "      <td>Medium</td>\n",
       "      <td>Yes</td>\n",
       "      <td>3</td>\n",
       "      <td>High</td>\n",
       "      <td>Medium</td>\n",
       "      <td>Private</td>\n",
       "      <td>Positive</td>\n",
       "      <td>2</td>\n",
       "      <td>No</td>\n",
       "      <td>College</td>\n",
       "      <td>Near</td>\n",
       "      <td>Female</td>\n",
       "      <td>100</td>\n",
       "    </tr>\n",
       "    <tr>\n",
       "      <th>3579</th>\n",
       "      <td>14</td>\n",
       "      <td>90</td>\n",
       "      <td>High</td>\n",
       "      <td>High</td>\n",
       "      <td>Yes</td>\n",
       "      <td>8</td>\n",
       "      <td>86</td>\n",
       "      <td>Medium</td>\n",
       "      <td>Yes</td>\n",
       "      <td>4</td>\n",
       "      <td>Medium</td>\n",
       "      <td>Medium</td>\n",
       "      <td>Private</td>\n",
       "      <td>Negative</td>\n",
       "      <td>2</td>\n",
       "      <td>No</td>\n",
       "      <td>High School</td>\n",
       "      <td>Near</td>\n",
       "      <td>Female</td>\n",
       "      <td>99</td>\n",
       "    </tr>\n",
       "    <tr>\n",
       "      <th>2425</th>\n",
       "      <td>23</td>\n",
       "      <td>83</td>\n",
       "      <td>High</td>\n",
       "      <td>High</td>\n",
       "      <td>Yes</td>\n",
       "      <td>4</td>\n",
       "      <td>89</td>\n",
       "      <td>Low</td>\n",
       "      <td>Yes</td>\n",
       "      <td>1</td>\n",
       "      <td>Medium</td>\n",
       "      <td>Medium</td>\n",
       "      <td>Public</td>\n",
       "      <td>Negative</td>\n",
       "      <td>3</td>\n",
       "      <td>No</td>\n",
       "      <td>High School</td>\n",
       "      <td>Far</td>\n",
       "      <td>Male</td>\n",
       "      <td>99</td>\n",
       "    </tr>\n",
       "    <tr>\n",
       "      <th>6393</th>\n",
       "      <td>16</td>\n",
       "      <td>83</td>\n",
       "      <td>Low</td>\n",
       "      <td>Medium</td>\n",
       "      <td>Yes</td>\n",
       "      <td>8</td>\n",
       "      <td>92</td>\n",
       "      <td>Low</td>\n",
       "      <td>Yes</td>\n",
       "      <td>2</td>\n",
       "      <td>High</td>\n",
       "      <td>High</td>\n",
       "      <td>Public</td>\n",
       "      <td>Positive</td>\n",
       "      <td>4</td>\n",
       "      <td>No</td>\n",
       "      <td>Postgraduate</td>\n",
       "      <td>Near</td>\n",
       "      <td>Female</td>\n",
       "      <td>98</td>\n",
       "    </tr>\n",
       "    <tr>\n",
       "      <th>...</th>\n",
       "      <td>...</td>\n",
       "      <td>...</td>\n",
       "      <td>...</td>\n",
       "      <td>...</td>\n",
       "      <td>...</td>\n",
       "      <td>...</td>\n",
       "      <td>...</td>\n",
       "      <td>...</td>\n",
       "      <td>...</td>\n",
       "      <td>...</td>\n",
       "      <td>...</td>\n",
       "      <td>...</td>\n",
       "      <td>...</td>\n",
       "      <td>...</td>\n",
       "      <td>...</td>\n",
       "      <td>...</td>\n",
       "      <td>...</td>\n",
       "      <td>...</td>\n",
       "      <td>...</td>\n",
       "      <td>...</td>\n",
       "    </tr>\n",
       "    <tr>\n",
       "      <th>3543</th>\n",
       "      <td>14</td>\n",
       "      <td>67</td>\n",
       "      <td>Low</td>\n",
       "      <td>Low</td>\n",
       "      <td>Yes</td>\n",
       "      <td>7</td>\n",
       "      <td>66</td>\n",
       "      <td>Low</td>\n",
       "      <td>Yes</td>\n",
       "      <td>0</td>\n",
       "      <td>Low</td>\n",
       "      <td>Medium</td>\n",
       "      <td>Public</td>\n",
       "      <td>Neutral</td>\n",
       "      <td>4</td>\n",
       "      <td>No</td>\n",
       "      <td>High School</td>\n",
       "      <td>Far</td>\n",
       "      <td>Female</td>\n",
       "      <td>57</td>\n",
       "    </tr>\n",
       "    <tr>\n",
       "      <th>5719</th>\n",
       "      <td>9</td>\n",
       "      <td>64</td>\n",
       "      <td>Medium</td>\n",
       "      <td>Low</td>\n",
       "      <td>Yes</td>\n",
       "      <td>10</td>\n",
       "      <td>68</td>\n",
       "      <td>Low</td>\n",
       "      <td>Yes</td>\n",
       "      <td>0</td>\n",
       "      <td>Medium</td>\n",
       "      <td>Medium</td>\n",
       "      <td>Private</td>\n",
       "      <td>Negative</td>\n",
       "      <td>3</td>\n",
       "      <td>No</td>\n",
       "      <td>High School</td>\n",
       "      <td>Near</td>\n",
       "      <td>Male</td>\n",
       "      <td>57</td>\n",
       "    </tr>\n",
       "    <tr>\n",
       "      <th>2880</th>\n",
       "      <td>7</td>\n",
       "      <td>66</td>\n",
       "      <td>High</td>\n",
       "      <td>Low</td>\n",
       "      <td>Yes</td>\n",
       "      <td>8</td>\n",
       "      <td>68</td>\n",
       "      <td>High</td>\n",
       "      <td>Yes</td>\n",
       "      <td>0</td>\n",
       "      <td>Low</td>\n",
       "      <td>Medium</td>\n",
       "      <td>Public</td>\n",
       "      <td>Negative</td>\n",
       "      <td>2</td>\n",
       "      <td>Yes</td>\n",
       "      <td>College</td>\n",
       "      <td>Moderate</td>\n",
       "      <td>Male</td>\n",
       "      <td>57</td>\n",
       "    </tr>\n",
       "    <tr>\n",
       "      <th>5507</th>\n",
       "      <td>5</td>\n",
       "      <td>65</td>\n",
       "      <td>Low</td>\n",
       "      <td>High</td>\n",
       "      <td>No</td>\n",
       "      <td>7</td>\n",
       "      <td>71</td>\n",
       "      <td>Medium</td>\n",
       "      <td>Yes</td>\n",
       "      <td>0</td>\n",
       "      <td>Low</td>\n",
       "      <td>Medium</td>\n",
       "      <td>Private</td>\n",
       "      <td>Negative</td>\n",
       "      <td>2</td>\n",
       "      <td>No</td>\n",
       "      <td>College</td>\n",
       "      <td>Far</td>\n",
       "      <td>Male</td>\n",
       "      <td>56</td>\n",
       "    </tr>\n",
       "    <tr>\n",
       "      <th>1101</th>\n",
       "      <td>3</td>\n",
       "      <td>62</td>\n",
       "      <td>Medium</td>\n",
       "      <td>Low</td>\n",
       "      <td>No</td>\n",
       "      <td>6</td>\n",
       "      <td>67</td>\n",
       "      <td>Medium</td>\n",
       "      <td>Yes</td>\n",
       "      <td>1</td>\n",
       "      <td>Low</td>\n",
       "      <td>Medium</td>\n",
       "      <td>Public</td>\n",
       "      <td>Negative</td>\n",
       "      <td>3</td>\n",
       "      <td>No</td>\n",
       "      <td>High School</td>\n",
       "      <td>Near</td>\n",
       "      <td>Male</td>\n",
       "      <td>55</td>\n",
       "    </tr>\n",
       "  </tbody>\n",
       "</table>\n",
       "<p>6378 rows × 20 columns</p>\n",
       "</div>"
      ],
      "text/plain": [
       "      Hours_Studied  Attendance Parental_Involvement Access_to_Resources  \\\n",
       "1525             27          98                  Low              Medium   \n",
       "94               18          89                 High              Medium   \n",
       "3579             14          90                 High                High   \n",
       "2425             23          83                 High                High   \n",
       "6393             16          83                  Low              Medium   \n",
       "...             ...         ...                  ...                 ...   \n",
       "3543             14          67                  Low                 Low   \n",
       "5719              9          64               Medium                 Low   \n",
       "2880              7          66                 High                 Low   \n",
       "5507              5          65                  Low                High   \n",
       "1101              3          62               Medium                 Low   \n",
       "\n",
       "     Extracurricular_Activities  Sleep_Hours  Previous_Scores  \\\n",
       "1525                        Yes            6               93   \n",
       "94                          Yes            4               73   \n",
       "3579                        Yes            8               86   \n",
       "2425                        Yes            4               89   \n",
       "6393                        Yes            8               92   \n",
       "...                         ...          ...              ...   \n",
       "3543                        Yes            7               66   \n",
       "5719                        Yes           10               68   \n",
       "2880                        Yes            8               68   \n",
       "5507                         No            7               71   \n",
       "1101                         No            6               67   \n",
       "\n",
       "     Motivation_Level Internet_Access  Tutoring_Sessions Family_Income  \\\n",
       "1525              Low              No                  5          High   \n",
       "94             Medium             Yes                  3          High   \n",
       "3579           Medium             Yes                  4        Medium   \n",
       "2425              Low             Yes                  1        Medium   \n",
       "6393              Low             Yes                  2          High   \n",
       "...               ...             ...                ...           ...   \n",
       "3543              Low             Yes                  0           Low   \n",
       "5719              Low             Yes                  0        Medium   \n",
       "2880             High             Yes                  0           Low   \n",
       "5507           Medium             Yes                  0           Low   \n",
       "1101           Medium             Yes                  1           Low   \n",
       "\n",
       "     Teacher_Quality School_Type Peer_Influence  Physical_Activity  \\\n",
       "1525            High      Public       Positive                  3   \n",
       "94            Medium     Private       Positive                  2   \n",
       "3579          Medium     Private       Negative                  2   \n",
       "2425          Medium      Public       Negative                  3   \n",
       "6393            High      Public       Positive                  4   \n",
       "...              ...         ...            ...                ...   \n",
       "3543          Medium      Public        Neutral                  4   \n",
       "5719          Medium     Private       Negative                  3   \n",
       "2880          Medium      Public       Negative                  2   \n",
       "5507          Medium     Private       Negative                  2   \n",
       "1101          Medium      Public       Negative                  3   \n",
       "\n",
       "     Learning_Disabilities Parental_Education_Level Distance_from_Home  \\\n",
       "1525                    No              High School           Moderate   \n",
       "94                      No                  College               Near   \n",
       "3579                    No              High School               Near   \n",
       "2425                    No              High School                Far   \n",
       "6393                    No             Postgraduate               Near   \n",
       "...                    ...                      ...                ...   \n",
       "3543                    No              High School                Far   \n",
       "5719                    No              High School               Near   \n",
       "2880                   Yes                  College           Moderate   \n",
       "5507                    No                  College                Far   \n",
       "1101                    No              High School               Near   \n",
       "\n",
       "      Gender  Exam_Score  \n",
       "1525  Female         101  \n",
       "94    Female         100  \n",
       "3579  Female          99  \n",
       "2425    Male          99  \n",
       "6393  Female          98  \n",
       "...      ...         ...  \n",
       "3543  Female          57  \n",
       "5719    Male          57  \n",
       "2880    Male          57  \n",
       "5507    Male          56  \n",
       "1101    Male          55  \n",
       "\n",
       "[6378 rows x 20 columns]"
      ]
     },
     "execution_count": 4,
     "metadata": {},
     "output_type": "execute_result"
    }
   ],
   "source": [
    "# delete rows with empty data\n",
    "students = students.dropna().sort_values(by=\"Exam_Score\",ascending=False)\n",
    "students"
   ]
  },
  {
   "cell_type": "code",
   "execution_count": 5,
   "id": "db2b976e",
   "metadata": {},
   "outputs": [
    {
     "name": "stdout",
     "output_type": "stream",
     "text": [
      "<class 'pandas.core.frame.DataFrame'>\n",
      "Int64Index: 6378 entries, 1525 to 1101\n",
      "Data columns (total 20 columns):\n",
      " #   Column                      Non-Null Count  Dtype \n",
      "---  ------                      --------------  ----- \n",
      " 0   Hours_Studied               6378 non-null   int64 \n",
      " 1   Attendance                  6378 non-null   int64 \n",
      " 2   Parental_Involvement        6378 non-null   object\n",
      " 3   Access_to_Resources         6378 non-null   object\n",
      " 4   Extracurricular_Activities  6378 non-null   object\n",
      " 5   Sleep_Hours                 6378 non-null   int64 \n",
      " 6   Previous_Scores             6378 non-null   int64 \n",
      " 7   Motivation_Level            6378 non-null   object\n",
      " 8   Internet_Access             6378 non-null   object\n",
      " 9   Tutoring_Sessions           6378 non-null   int64 \n",
      " 10  Family_Income               6378 non-null   object\n",
      " 11  Teacher_Quality             6378 non-null   object\n",
      " 12  School_Type                 6378 non-null   object\n",
      " 13  Peer_Influence              6378 non-null   object\n",
      " 14  Physical_Activity           6378 non-null   int64 \n",
      " 15  Learning_Disabilities       6378 non-null   object\n",
      " 16  Parental_Education_Level    6378 non-null   object\n",
      " 17  Distance_from_Home          6378 non-null   object\n",
      " 18  Gender                      6378 non-null   object\n",
      " 19  Exam_Score                  6378 non-null   int64 \n",
      "dtypes: int64(7), object(13)\n",
      "memory usage: 1.0+ MB\n"
     ]
    }
   ],
   "source": [
    "students.info()"
   ]
  },
  {
   "cell_type": "code",
   "execution_count": 6,
   "id": "921df0c3",
   "metadata": {},
   "outputs": [
    {
     "data": {
      "text/html": [
       "<div>\n",
       "<style scoped>\n",
       "    .dataframe tbody tr th:only-of-type {\n",
       "        vertical-align: middle;\n",
       "    }\n",
       "\n",
       "    .dataframe tbody tr th {\n",
       "        vertical-align: top;\n",
       "    }\n",
       "\n",
       "    .dataframe thead th {\n",
       "        text-align: right;\n",
       "    }\n",
       "</style>\n",
       "<table border=\"1\" class=\"dataframe\">\n",
       "  <thead>\n",
       "    <tr style=\"text-align: right;\">\n",
       "      <th></th>\n",
       "      <th>Hours_Studied</th>\n",
       "      <th>Attendance</th>\n",
       "      <th>Sleep_Hours</th>\n",
       "      <th>Previous_Scores</th>\n",
       "      <th>Tutoring_Sessions</th>\n",
       "      <th>Physical_Activity</th>\n",
       "      <th>Exam_Score</th>\n",
       "    </tr>\n",
       "  </thead>\n",
       "  <tbody>\n",
       "    <tr>\n",
       "      <th>count</th>\n",
       "      <td>6378.000000</td>\n",
       "      <td>6378.000000</td>\n",
       "      <td>6378.000000</td>\n",
       "      <td>6378.000000</td>\n",
       "      <td>6378.000000</td>\n",
       "      <td>6378.000000</td>\n",
       "      <td>6378.000000</td>\n",
       "    </tr>\n",
       "    <tr>\n",
       "      <th>mean</th>\n",
       "      <td>19.977109</td>\n",
       "      <td>80.020853</td>\n",
       "      <td>7.034964</td>\n",
       "      <td>75.066165</td>\n",
       "      <td>1.495296</td>\n",
       "      <td>2.972719</td>\n",
       "      <td>67.252117</td>\n",
       "    </tr>\n",
       "    <tr>\n",
       "      <th>std</th>\n",
       "      <td>5.985460</td>\n",
       "      <td>11.550723</td>\n",
       "      <td>1.468033</td>\n",
       "      <td>14.400389</td>\n",
       "      <td>1.233984</td>\n",
       "      <td>1.028926</td>\n",
       "      <td>3.914217</td>\n",
       "    </tr>\n",
       "    <tr>\n",
       "      <th>min</th>\n",
       "      <td>1.000000</td>\n",
       "      <td>60.000000</td>\n",
       "      <td>4.000000</td>\n",
       "      <td>50.000000</td>\n",
       "      <td>0.000000</td>\n",
       "      <td>0.000000</td>\n",
       "      <td>55.000000</td>\n",
       "    </tr>\n",
       "    <tr>\n",
       "      <th>25%</th>\n",
       "      <td>16.000000</td>\n",
       "      <td>70.000000</td>\n",
       "      <td>6.000000</td>\n",
       "      <td>63.000000</td>\n",
       "      <td>1.000000</td>\n",
       "      <td>2.000000</td>\n",
       "      <td>65.000000</td>\n",
       "    </tr>\n",
       "    <tr>\n",
       "      <th>50%</th>\n",
       "      <td>20.000000</td>\n",
       "      <td>80.000000</td>\n",
       "      <td>7.000000</td>\n",
       "      <td>75.000000</td>\n",
       "      <td>1.000000</td>\n",
       "      <td>3.000000</td>\n",
       "      <td>67.000000</td>\n",
       "    </tr>\n",
       "    <tr>\n",
       "      <th>75%</th>\n",
       "      <td>24.000000</td>\n",
       "      <td>90.000000</td>\n",
       "      <td>8.000000</td>\n",
       "      <td>88.000000</td>\n",
       "      <td>2.000000</td>\n",
       "      <td>4.000000</td>\n",
       "      <td>69.000000</td>\n",
       "    </tr>\n",
       "    <tr>\n",
       "      <th>max</th>\n",
       "      <td>44.000000</td>\n",
       "      <td>100.000000</td>\n",
       "      <td>10.000000</td>\n",
       "      <td>100.000000</td>\n",
       "      <td>8.000000</td>\n",
       "      <td>6.000000</td>\n",
       "      <td>101.000000</td>\n",
       "    </tr>\n",
       "  </tbody>\n",
       "</table>\n",
       "</div>"
      ],
      "text/plain": [
       "       Hours_Studied   Attendance  Sleep_Hours  Previous_Scores  \\\n",
       "count    6378.000000  6378.000000  6378.000000      6378.000000   \n",
       "mean       19.977109    80.020853     7.034964        75.066165   \n",
       "std         5.985460    11.550723     1.468033        14.400389   \n",
       "min         1.000000    60.000000     4.000000        50.000000   \n",
       "25%        16.000000    70.000000     6.000000        63.000000   \n",
       "50%        20.000000    80.000000     7.000000        75.000000   \n",
       "75%        24.000000    90.000000     8.000000        88.000000   \n",
       "max        44.000000   100.000000    10.000000       100.000000   \n",
       "\n",
       "       Tutoring_Sessions  Physical_Activity   Exam_Score  \n",
       "count        6378.000000        6378.000000  6378.000000  \n",
       "mean            1.495296           2.972719    67.252117  \n",
       "std             1.233984           1.028926     3.914217  \n",
       "min             0.000000           0.000000    55.000000  \n",
       "25%             1.000000           2.000000    65.000000  \n",
       "50%             1.000000           3.000000    67.000000  \n",
       "75%             2.000000           4.000000    69.000000  \n",
       "max             8.000000           6.000000   101.000000  "
      ]
     },
     "execution_count": 6,
     "metadata": {},
     "output_type": "execute_result"
    }
   ],
   "source": [
    "students.describe()"
   ]
  },
  {
   "cell_type": "code",
   "execution_count": 7,
   "id": "9dee14b3",
   "metadata": {},
   "outputs": [
    {
     "data": {
      "text/plain": [
       "0    68\n",
       "Name: Exam_Score, dtype: int64"
      ]
     },
     "execution_count": 7,
     "metadata": {},
     "output_type": "execute_result"
    }
   ],
   "source": [
    "students[\"Exam_Score\"].mode()"
   ]
  },
  {
   "cell_type": "markdown",
   "id": "cdffbdcb",
   "metadata": {},
   "source": [
    "##  Descriptive Statistics Analysis"
   ]
  },
  {
   "cell_type": "markdown",
   "id": "dbc2161e",
   "metadata": {},
   "source": [
    "### Question 1\n",
    "What is the average exam score of students based on their access to resources?"
   ]
  },
  {
   "cell_type": "code",
   "execution_count": 8,
   "id": "1fc0dd65",
   "metadata": {},
   "outputs": [
    {
     "data": {
      "text/html": [
       "<div>\n",
       "<style scoped>\n",
       "    .dataframe tbody tr th:only-of-type {\n",
       "        vertical-align: middle;\n",
       "    }\n",
       "\n",
       "    .dataframe tbody tr th {\n",
       "        vertical-align: top;\n",
       "    }\n",
       "\n",
       "    .dataframe thead th {\n",
       "        text-align: right;\n",
       "    }\n",
       "</style>\n",
       "<table border=\"1\" class=\"dataframe\">\n",
       "  <thead>\n",
       "    <tr style=\"text-align: right;\">\n",
       "      <th></th>\n",
       "      <th>Average_Exam_Score</th>\n",
       "    </tr>\n",
       "    <tr>\n",
       "      <th>Access_to_Resources</th>\n",
       "      <th></th>\n",
       "    </tr>\n",
       "  </thead>\n",
       "  <tbody>\n",
       "    <tr>\n",
       "      <th>High</th>\n",
       "      <td>68.103158</td>\n",
       "    </tr>\n",
       "    <tr>\n",
       "      <th>Medium</th>\n",
       "      <td>67.156367</td>\n",
       "    </tr>\n",
       "    <tr>\n",
       "      <th>Low</th>\n",
       "      <td>66.223705</td>\n",
       "    </tr>\n",
       "  </tbody>\n",
       "</table>\n",
       "</div>"
      ],
      "text/plain": [
       "                     Average_Exam_Score\n",
       "Access_to_Resources                    \n",
       "High                          68.103158\n",
       "Medium                        67.156367\n",
       "Low                           66.223705"
      ]
     },
     "execution_count": 8,
     "metadata": {},
     "output_type": "execute_result"
    }
   ],
   "source": [
    "# calculate and create a table containing average of exam scores based on access to resources\n",
    "resources_scores = students.pivot_table(index=\"Access_to_Resources\", values=\"Exam_Score\",aggfunc=\"mean\").sort_values(by=\"Exam_Score\",ascending=False).rename(columns={\"Exam_Score\": \"Average_Exam_Score\"})\n",
    "\n",
    "# display the table\n",
    "resources_scores"
   ]
  },
  {
   "cell_type": "code",
   "execution_count": 9,
   "id": "dade7f7f",
   "metadata": {},
   "outputs": [
    {
     "data": {
      "image/png": "[encoded data removed]",
      "text/plain": [
       "<Figure size 576x432 with 1 Axes>"
      ]
     },
     "metadata": {
      "needs_background": "light"
     },
     "output_type": "display_data"
    }
   ],
   "source": [
    "# create histogram\n",
    "plt.figure(figsize=(8, 6))\n",
    "plt.bar(resources_scores.index, resources_scores[\"Average_Exam_Score\"], color=['#1f77b4', '#4d92d1', '#7ab0eb'], width=0.5)\n",
    "plt.ylim(65, 69)\n",
    "plt.title('Average Exam Score by Access to Resources')\n",
    "plt.xlabel('Access to Resources')\n",
    "plt.ylabel('Average Exam Score')\n",
    "\n",
    "# display the chart\n",
    "plt.show()"
   ]
  },
  {
   "cell_type": "code",
   "execution_count": 10,
   "id": "5283c66b",
   "metadata": {},
   "outputs": [
    {
     "name": "stdout",
     "output_type": "stream",
     "text": [
      "Average exam score of students with High access to resources is 68\n",
      "Average exam score of students with Medium access to resources is 67\n",
      "Average exam score of students with Low access to resources is 66\n"
     ]
    }
   ],
   "source": [
    "# display answer\n",
    "for index, row in resources_scores.iterrows():\n",
    "    print(f\"Average exam score of students with {index} access to resources is {row['Average_Exam_Score']:.0f}\")"
   ]
  },
  {
   "cell_type": "markdown",
   "id": "5c6efa12",
   "metadata": {},
   "source": [
    "### Question 2\n",
    "Which type of school has the highest average exam score?"
   ]
  },
  {
   "cell_type": "code",
   "execution_count": 11,
   "id": "7e000603",
   "metadata": {},
   "outputs": [
    {
     "data": {
      "text/html": [
       "<div>\n",
       "<style scoped>\n",
       "    .dataframe tbody tr th:only-of-type {\n",
       "        vertical-align: middle;\n",
       "    }\n",
       "\n",
       "    .dataframe tbody tr th {\n",
       "        vertical-align: top;\n",
       "    }\n",
       "\n",
       "    .dataframe thead th {\n",
       "        text-align: right;\n",
       "    }\n",
       "</style>\n",
       "<table border=\"1\" class=\"dataframe\">\n",
       "  <thead>\n",
       "    <tr style=\"text-align: right;\">\n",
       "      <th></th>\n",
       "      <th>Average Exam Score</th>\n",
       "    </tr>\n",
       "    <tr>\n",
       "      <th>School_Type</th>\n",
       "      <th></th>\n",
       "    </tr>\n",
       "  </thead>\n",
       "  <tbody>\n",
       "    <tr>\n",
       "      <th>Private</th>\n",
       "      <td>67.316358</td>\n",
       "    </tr>\n",
       "    <tr>\n",
       "      <th>Public</th>\n",
       "      <td>67.223951</td>\n",
       "    </tr>\n",
       "  </tbody>\n",
       "</table>\n",
       "</div>"
      ],
      "text/plain": [
       "             Average Exam Score\n",
       "School_Type                    \n",
       "Private               67.316358\n",
       "Public                67.223951"
      ]
     },
     "execution_count": 11,
     "metadata": {},
     "output_type": "execute_result"
    }
   ],
   "source": [
    "# calculate and create a table containing average of exam scores based on school type\n",
    "school_scores = students.pivot_table(index=\"School_Type\", values=\"Exam_Score\",aggfunc=\"mean\").rename(columns={\"Exam_Score\": \"Average Exam Score\"})\n",
    "\n",
    "# display the table\n",
    "school_scores"
   ]
  },
  {
   "cell_type": "code",
   "execution_count": 12,
   "id": "2be78a52",
   "metadata": {},
   "outputs": [
    {
     "name": "stdout",
     "output_type": "stream",
     "text": [
      "The school type with the highest average score is Public School\n"
     ]
    }
   ],
   "source": [
    "# get the school type with the highest average of exam scores\n",
    "highest_type = students.loc[students[\"Exam_Score\"].idxmax(), \"School_Type\"]\n",
    "\n",
    "# display the answer\n",
    "print(f\"The school type with the highest average score is {highest_type} School\")"
   ]
  },
  {
   "cell_type": "markdown",
   "id": "2a7e0e15",
   "metadata": {},
   "source": [
    "### Question 3\n",
    "What is the percentage `Parental_Involvement` on students who improved their scores?"
   ]
  },
  {
   "cell_type": "code",
   "execution_count": 13,
   "id": "c4d2a8e0",
   "metadata": {},
   "outputs": [
    {
     "data": {
      "text/html": [
       "<div>\n",
       "<style scoped>\n",
       "    .dataframe tbody tr th:only-of-type {\n",
       "        vertical-align: middle;\n",
       "    }\n",
       "\n",
       "    .dataframe tbody tr th {\n",
       "        vertical-align: top;\n",
       "    }\n",
       "\n",
       "    .dataframe thead th {\n",
       "        text-align: right;\n",
       "    }\n",
       "</style>\n",
       "<table border=\"1\" class=\"dataframe\">\n",
       "  <thead>\n",
       "    <tr style=\"text-align: right;\">\n",
       "      <th></th>\n",
       "      <th>Previous_Scores</th>\n",
       "      <th>Exam_Score</th>\n",
       "      <th>Parental_Involvement</th>\n",
       "    </tr>\n",
       "  </thead>\n",
       "  <tbody>\n",
       "    <tr>\n",
       "      <th>1525</th>\n",
       "      <td>93</td>\n",
       "      <td>101</td>\n",
       "      <td>Low</td>\n",
       "    </tr>\n",
       "    <tr>\n",
       "      <th>94</th>\n",
       "      <td>73</td>\n",
       "      <td>100</td>\n",
       "      <td>High</td>\n",
       "    </tr>\n",
       "    <tr>\n",
       "      <th>3579</th>\n",
       "      <td>86</td>\n",
       "      <td>99</td>\n",
       "      <td>High</td>\n",
       "    </tr>\n",
       "    <tr>\n",
       "      <th>2425</th>\n",
       "      <td>89</td>\n",
       "      <td>99</td>\n",
       "      <td>High</td>\n",
       "    </tr>\n",
       "    <tr>\n",
       "      <th>6393</th>\n",
       "      <td>92</td>\n",
       "      <td>98</td>\n",
       "      <td>Low</td>\n",
       "    </tr>\n",
       "    <tr>\n",
       "      <th>...</th>\n",
       "      <td>...</td>\n",
       "      <td>...</td>\n",
       "      <td>...</td>\n",
       "    </tr>\n",
       "    <tr>\n",
       "      <th>3357</th>\n",
       "      <td>51</td>\n",
       "      <td>58</td>\n",
       "      <td>High</td>\n",
       "    </tr>\n",
       "    <tr>\n",
       "      <th>4425</th>\n",
       "      <td>57</td>\n",
       "      <td>58</td>\n",
       "      <td>Medium</td>\n",
       "    </tr>\n",
       "    <tr>\n",
       "      <th>6431</th>\n",
       "      <td>55</td>\n",
       "      <td>58</td>\n",
       "      <td>Medium</td>\n",
       "    </tr>\n",
       "    <tr>\n",
       "      <th>3815</th>\n",
       "      <td>53</td>\n",
       "      <td>58</td>\n",
       "      <td>Low</td>\n",
       "    </tr>\n",
       "    <tr>\n",
       "      <th>3418</th>\n",
       "      <td>52</td>\n",
       "      <td>58</td>\n",
       "      <td>Medium</td>\n",
       "    </tr>\n",
       "  </tbody>\n",
       "</table>\n",
       "<p>2073 rows × 3 columns</p>\n",
       "</div>"
      ],
      "text/plain": [
       "      Previous_Scores  Exam_Score Parental_Involvement\n",
       "1525               93         101                  Low\n",
       "94                 73         100                 High\n",
       "3579               86          99                 High\n",
       "2425               89          99                 High\n",
       "6393               92          98                  Low\n",
       "...               ...         ...                  ...\n",
       "3357               51          58                 High\n",
       "4425               57          58               Medium\n",
       "6431               55          58               Medium\n",
       "3815               53          58                  Low\n",
       "3418               52          58               Medium\n",
       "\n",
       "[2073 rows x 3 columns]"
      ]
     },
     "execution_count": 13,
     "metadata": {},
     "output_type": "execute_result"
    }
   ],
   "source": [
    "# get students who improved their scores\n",
    "improved_score = students[students[\"Exam_Score\"] > students[\"Previous_Scores\"]][[\"Previous_Scores\", \"Exam_Score\", \"Parental_Involvement\"]]\n",
    "\n",
    "# display table of students who improved their scores\n",
    "improved_score"
   ]
  },
  {
   "cell_type": "code",
   "execution_count": 14,
   "id": "8d25f577",
   "metadata": {},
   "outputs": [
    {
     "data": {
      "image/png": "[encoded data removed]",
      "text/plain": [
       "<Figure size 288x288 with 1 Axes>"
      ]
     },
     "metadata": {},
     "output_type": "display_data"
    }
   ],
   "source": [
    "# get amount of students in each parental involvement level\n",
    "parental_involvement_counts = improved_score['Parental_Involvement'].value_counts()\n",
    "\n",
    "# create a pie chart\n",
    "plt.figure(figsize=(4, 4))\n",
    "colors = ['#1f77b4', '#4d92d1', '#7ab0eb']\n",
    "wedges, texts, autotexts = plt.pie(parental_involvement_counts, autopct='%.0f%%', startangle=140, colors=colors, textprops={'fontsize': 10, 'color':'white'})\n",
    "plt.title('Parental Involvement Among Students with Improvement', fontsize=10)\n",
    "plt.legend(wedges, parental_involvement_counts.index, title=\"Parental Involvement\", loc=\"center left\", bbox_to_anchor=(1, 0, 0.5, 1))\n",
    "\n",
    "# display the chart\n",
    "plt.show()"
   ]
  },
  {
   "cell_type": "code",
   "execution_count": 15,
   "id": "ecb95eee",
   "metadata": {},
   "outputs": [
    {
     "name": "stdout",
     "output_type": "stream",
     "text": [
      "Percentage of high Parental_Involvement on students who improved their scores is 31%.\n"
     ]
    }
   ],
   "source": [
    "# filter students with high parental involvement\n",
    "p_high = (improved_score[\"Parental_Involvement\"] ==\"High\").sum()\n",
    "\n",
    "# calculate percentage\n",
    "percentage_p_high = p_high/len(improved_score) *100\n",
    "\n",
    "# display answer\n",
    "print(f\"Percentage of high Parental_Involvement on students who improved their scores is {percentage_p_high:.0f}%.\")"
   ]
  },
  {
   "cell_type": "code",
   "execution_count": 16,
   "id": "7cc29bb6",
   "metadata": {},
   "outputs": [
    {
     "name": "stdout",
     "output_type": "stream",
     "text": [
      "Percentage of medium Parental_Involvement on students who improved their scores is 51%.\n"
     ]
    }
   ],
   "source": [
    "# filter students with medium parental involvement\n",
    "p_medium = (improved_score[\"Parental_Involvement\"] == \"Medium\").sum()\n",
    "\n",
    "# calculate percentage\n",
    "percentage_p_medium = p_medium/len(improved_score) *100\n",
    "\n",
    "# display answer\n",
    "print(f\"Percentage of medium Parental_Involvement on students who improved their scores is {percentage_p_medium:.0f}%.\")"
   ]
  },
  {
   "cell_type": "code",
   "execution_count": 17,
   "id": "b6841337",
   "metadata": {},
   "outputs": [
    {
     "name": "stdout",
     "output_type": "stream",
     "text": [
      "Percentage of low Parental_Involvement on students who improved their scores is 18%.\n"
     ]
    }
   ],
   "source": [
    "# filter students with low parental involvement\n",
    "p_low = (improved_score[\"Parental_Involvement\"] == \"Low\").sum() \n",
    "\n",
    "# calculate percentage\n",
    "percentage_p_low = p_low/len(improved_score) *100\n",
    "\n",
    "# display answer\n",
    "print(f\"Percentage of low Parental_Involvement on students who improved their scores is {percentage_p_low:.0f}%.\")"
   ]
  },
  {
   "cell_type": "markdown",
   "id": "b6ad3779",
   "metadata": {},
   "source": [
    "### Question 4\n",
    "What is the average score of students in the top 1%?"
   ]
  },
  {
   "cell_type": "code",
   "execution_count": 18,
   "id": "d76ec834",
   "metadata": {},
   "outputs": [
    {
     "data": {
      "text/html": [
       "<div>\n",
       "<style scoped>\n",
       "    .dataframe tbody tr th:only-of-type {\n",
       "        vertical-align: middle;\n",
       "    }\n",
       "\n",
       "    .dataframe tbody tr th {\n",
       "        vertical-align: top;\n",
       "    }\n",
       "\n",
       "    .dataframe thead th {\n",
       "        text-align: right;\n",
       "    }\n",
       "</style>\n",
       "<table border=\"1\" class=\"dataframe\">\n",
       "  <thead>\n",
       "    <tr style=\"text-align: right;\">\n",
       "      <th></th>\n",
       "      <th>Hours_Studied</th>\n",
       "      <th>Attendance</th>\n",
       "      <th>Parental_Involvement</th>\n",
       "      <th>Access_to_Resources</th>\n",
       "      <th>Extracurricular_Activities</th>\n",
       "      <th>Sleep_Hours</th>\n",
       "      <th>Previous_Scores</th>\n",
       "      <th>Motivation_Level</th>\n",
       "      <th>Internet_Access</th>\n",
       "      <th>Tutoring_Sessions</th>\n",
       "      <th>Family_Income</th>\n",
       "      <th>Teacher_Quality</th>\n",
       "      <th>School_Type</th>\n",
       "      <th>Peer_Influence</th>\n",
       "      <th>Physical_Activity</th>\n",
       "      <th>Learning_Disabilities</th>\n",
       "      <th>Parental_Education_Level</th>\n",
       "      <th>Distance_from_Home</th>\n",
       "      <th>Gender</th>\n",
       "      <th>Exam_Score</th>\n",
       "    </tr>\n",
       "  </thead>\n",
       "  <tbody>\n",
       "    <tr>\n",
       "      <th>1525</th>\n",
       "      <td>27</td>\n",
       "      <td>98</td>\n",
       "      <td>Low</td>\n",
       "      <td>Medium</td>\n",
       "      <td>Yes</td>\n",
       "      <td>6</td>\n",
       "      <td>93</td>\n",
       "      <td>Low</td>\n",
       "      <td>No</td>\n",
       "      <td>5</td>\n",
       "      <td>High</td>\n",
       "      <td>High</td>\n",
       "      <td>Public</td>\n",
       "      <td>Positive</td>\n",
       "      <td>3</td>\n",
       "      <td>No</td>\n",
       "      <td>High School</td>\n",
       "      <td>Moderate</td>\n",
       "      <td>Female</td>\n",
       "      <td>101</td>\n",
       "    </tr>\n",
       "    <tr>\n",
       "      <th>94</th>\n",
       "      <td>18</td>\n",
       "      <td>89</td>\n",
       "      <td>High</td>\n",
       "      <td>Medium</td>\n",
       "      <td>Yes</td>\n",
       "      <td>4</td>\n",
       "      <td>73</td>\n",
       "      <td>Medium</td>\n",
       "      <td>Yes</td>\n",
       "      <td>3</td>\n",
       "      <td>High</td>\n",
       "      <td>Medium</td>\n",
       "      <td>Private</td>\n",
       "      <td>Positive</td>\n",
       "      <td>2</td>\n",
       "      <td>No</td>\n",
       "      <td>College</td>\n",
       "      <td>Near</td>\n",
       "      <td>Female</td>\n",
       "      <td>100</td>\n",
       "    </tr>\n",
       "    <tr>\n",
       "      <th>3579</th>\n",
       "      <td>14</td>\n",
       "      <td>90</td>\n",
       "      <td>High</td>\n",
       "      <td>High</td>\n",
       "      <td>Yes</td>\n",
       "      <td>8</td>\n",
       "      <td>86</td>\n",
       "      <td>Medium</td>\n",
       "      <td>Yes</td>\n",
       "      <td>4</td>\n",
       "      <td>Medium</td>\n",
       "      <td>Medium</td>\n",
       "      <td>Private</td>\n",
       "      <td>Negative</td>\n",
       "      <td>2</td>\n",
       "      <td>No</td>\n",
       "      <td>High School</td>\n",
       "      <td>Near</td>\n",
       "      <td>Female</td>\n",
       "      <td>99</td>\n",
       "    </tr>\n",
       "    <tr>\n",
       "      <th>2425</th>\n",
       "      <td>23</td>\n",
       "      <td>83</td>\n",
       "      <td>High</td>\n",
       "      <td>High</td>\n",
       "      <td>Yes</td>\n",
       "      <td>4</td>\n",
       "      <td>89</td>\n",
       "      <td>Low</td>\n",
       "      <td>Yes</td>\n",
       "      <td>1</td>\n",
       "      <td>Medium</td>\n",
       "      <td>Medium</td>\n",
       "      <td>Public</td>\n",
       "      <td>Negative</td>\n",
       "      <td>3</td>\n",
       "      <td>No</td>\n",
       "      <td>High School</td>\n",
       "      <td>Far</td>\n",
       "      <td>Male</td>\n",
       "      <td>99</td>\n",
       "    </tr>\n",
       "    <tr>\n",
       "      <th>6393</th>\n",
       "      <td>16</td>\n",
       "      <td>83</td>\n",
       "      <td>Low</td>\n",
       "      <td>Medium</td>\n",
       "      <td>Yes</td>\n",
       "      <td>8</td>\n",
       "      <td>92</td>\n",
       "      <td>Low</td>\n",
       "      <td>Yes</td>\n",
       "      <td>2</td>\n",
       "      <td>High</td>\n",
       "      <td>High</td>\n",
       "      <td>Public</td>\n",
       "      <td>Positive</td>\n",
       "      <td>4</td>\n",
       "      <td>No</td>\n",
       "      <td>Postgraduate</td>\n",
       "      <td>Near</td>\n",
       "      <td>Female</td>\n",
       "      <td>98</td>\n",
       "    </tr>\n",
       "    <tr>\n",
       "      <th>...</th>\n",
       "      <td>...</td>\n",
       "      <td>...</td>\n",
       "      <td>...</td>\n",
       "      <td>...</td>\n",
       "      <td>...</td>\n",
       "      <td>...</td>\n",
       "      <td>...</td>\n",
       "      <td>...</td>\n",
       "      <td>...</td>\n",
       "      <td>...</td>\n",
       "      <td>...</td>\n",
       "      <td>...</td>\n",
       "      <td>...</td>\n",
       "      <td>...</td>\n",
       "      <td>...</td>\n",
       "      <td>...</td>\n",
       "      <td>...</td>\n",
       "      <td>...</td>\n",
       "      <td>...</td>\n",
       "      <td>...</td>\n",
       "    </tr>\n",
       "    <tr>\n",
       "      <th>4728</th>\n",
       "      <td>30</td>\n",
       "      <td>98</td>\n",
       "      <td>Medium</td>\n",
       "      <td>High</td>\n",
       "      <td>Yes</td>\n",
       "      <td>7</td>\n",
       "      <td>96</td>\n",
       "      <td>Medium</td>\n",
       "      <td>Yes</td>\n",
       "      <td>1</td>\n",
       "      <td>Medium</td>\n",
       "      <td>Medium</td>\n",
       "      <td>Private</td>\n",
       "      <td>Neutral</td>\n",
       "      <td>3</td>\n",
       "      <td>No</td>\n",
       "      <td>Postgraduate</td>\n",
       "      <td>Near</td>\n",
       "      <td>Female</td>\n",
       "      <td>77</td>\n",
       "    </tr>\n",
       "    <tr>\n",
       "      <th>2544</th>\n",
       "      <td>35</td>\n",
       "      <td>77</td>\n",
       "      <td>High</td>\n",
       "      <td>High</td>\n",
       "      <td>Yes</td>\n",
       "      <td>8</td>\n",
       "      <td>89</td>\n",
       "      <td>Medium</td>\n",
       "      <td>Yes</td>\n",
       "      <td>5</td>\n",
       "      <td>High</td>\n",
       "      <td>Medium</td>\n",
       "      <td>Public</td>\n",
       "      <td>Positive</td>\n",
       "      <td>4</td>\n",
       "      <td>No</td>\n",
       "      <td>College</td>\n",
       "      <td>Near</td>\n",
       "      <td>Female</td>\n",
       "      <td>77</td>\n",
       "    </tr>\n",
       "    <tr>\n",
       "      <th>6566</th>\n",
       "      <td>29</td>\n",
       "      <td>96</td>\n",
       "      <td>High</td>\n",
       "      <td>Medium</td>\n",
       "      <td>No</td>\n",
       "      <td>8</td>\n",
       "      <td>85</td>\n",
       "      <td>Low</td>\n",
       "      <td>Yes</td>\n",
       "      <td>3</td>\n",
       "      <td>High</td>\n",
       "      <td>Medium</td>\n",
       "      <td>Public</td>\n",
       "      <td>Neutral</td>\n",
       "      <td>3</td>\n",
       "      <td>No</td>\n",
       "      <td>Postgraduate</td>\n",
       "      <td>Near</td>\n",
       "      <td>Male</td>\n",
       "      <td>76</td>\n",
       "    </tr>\n",
       "    <tr>\n",
       "      <th>4091</th>\n",
       "      <td>29</td>\n",
       "      <td>94</td>\n",
       "      <td>High</td>\n",
       "      <td>Medium</td>\n",
       "      <td>No</td>\n",
       "      <td>7</td>\n",
       "      <td>79</td>\n",
       "      <td>Medium</td>\n",
       "      <td>Yes</td>\n",
       "      <td>6</td>\n",
       "      <td>Low</td>\n",
       "      <td>High</td>\n",
       "      <td>Private</td>\n",
       "      <td>Neutral</td>\n",
       "      <td>4</td>\n",
       "      <td>No</td>\n",
       "      <td>College</td>\n",
       "      <td>Near</td>\n",
       "      <td>Female</td>\n",
       "      <td>76</td>\n",
       "    </tr>\n",
       "    <tr>\n",
       "      <th>4697</th>\n",
       "      <td>28</td>\n",
       "      <td>99</td>\n",
       "      <td>High</td>\n",
       "      <td>Low</td>\n",
       "      <td>No</td>\n",
       "      <td>5</td>\n",
       "      <td>100</td>\n",
       "      <td>Medium</td>\n",
       "      <td>Yes</td>\n",
       "      <td>6</td>\n",
       "      <td>Medium</td>\n",
       "      <td>Medium</td>\n",
       "      <td>Private</td>\n",
       "      <td>Neutral</td>\n",
       "      <td>5</td>\n",
       "      <td>No</td>\n",
       "      <td>High School</td>\n",
       "      <td>Moderate</td>\n",
       "      <td>Female</td>\n",
       "      <td>76</td>\n",
       "    </tr>\n",
       "  </tbody>\n",
       "</table>\n",
       "<p>63 rows × 20 columns</p>\n",
       "</div>"
      ],
      "text/plain": [
       "      Hours_Studied  Attendance Parental_Involvement Access_to_Resources  \\\n",
       "1525             27          98                  Low              Medium   \n",
       "94               18          89                 High              Medium   \n",
       "3579             14          90                 High                High   \n",
       "2425             23          83                 High                High   \n",
       "6393             16          83                  Low              Medium   \n",
       "...             ...         ...                  ...                 ...   \n",
       "4728             30          98               Medium                High   \n",
       "2544             35          77                 High                High   \n",
       "6566             29          96                 High              Medium   \n",
       "4091             29          94                 High              Medium   \n",
       "4697             28          99                 High                 Low   \n",
       "\n",
       "     Extracurricular_Activities  Sleep_Hours  Previous_Scores  \\\n",
       "1525                        Yes            6               93   \n",
       "94                          Yes            4               73   \n",
       "3579                        Yes            8               86   \n",
       "2425                        Yes            4               89   \n",
       "6393                        Yes            8               92   \n",
       "...                         ...          ...              ...   \n",
       "4728                        Yes            7               96   \n",
       "2544                        Yes            8               89   \n",
       "6566                         No            8               85   \n",
       "4091                         No            7               79   \n",
       "4697                         No            5              100   \n",
       "\n",
       "     Motivation_Level Internet_Access  Tutoring_Sessions Family_Income  \\\n",
       "1525              Low              No                  5          High   \n",
       "94             Medium             Yes                  3          High   \n",
       "3579           Medium             Yes                  4        Medium   \n",
       "2425              Low             Yes                  1        Medium   \n",
       "6393              Low             Yes                  2          High   \n",
       "...               ...             ...                ...           ...   \n",
       "4728           Medium             Yes                  1        Medium   \n",
       "2544           Medium             Yes                  5          High   \n",
       "6566              Low             Yes                  3          High   \n",
       "4091           Medium             Yes                  6           Low   \n",
       "4697           Medium             Yes                  6        Medium   \n",
       "\n",
       "     Teacher_Quality School_Type Peer_Influence  Physical_Activity  \\\n",
       "1525            High      Public       Positive                  3   \n",
       "94            Medium     Private       Positive                  2   \n",
       "3579          Medium     Private       Negative                  2   \n",
       "2425          Medium      Public       Negative                  3   \n",
       "6393            High      Public       Positive                  4   \n",
       "...              ...         ...            ...                ...   \n",
       "4728          Medium     Private        Neutral                  3   \n",
       "2544          Medium      Public       Positive                  4   \n",
       "6566          Medium      Public        Neutral                  3   \n",
       "4091            High     Private        Neutral                  4   \n",
       "4697          Medium     Private        Neutral                  5   \n",
       "\n",
       "     Learning_Disabilities Parental_Education_Level Distance_from_Home  \\\n",
       "1525                    No              High School           Moderate   \n",
       "94                      No                  College               Near   \n",
       "3579                    No              High School               Near   \n",
       "2425                    No              High School                Far   \n",
       "6393                    No             Postgraduate               Near   \n",
       "...                    ...                      ...                ...   \n",
       "4728                    No             Postgraduate               Near   \n",
       "2544                    No                  College               Near   \n",
       "6566                    No             Postgraduate               Near   \n",
       "4091                    No                  College               Near   \n",
       "4697                    No              High School           Moderate   \n",
       "\n",
       "      Gender  Exam_Score  \n",
       "1525  Female         101  \n",
       "94    Female         100  \n",
       "3579  Female          99  \n",
       "2425    Male          99  \n",
       "6393  Female          98  \n",
       "...      ...         ...  \n",
       "4728  Female          77  \n",
       "2544  Female          77  \n",
       "6566    Male          76  \n",
       "4091  Female          76  \n",
       "4697  Female          76  \n",
       "\n",
       "[63 rows x 20 columns]"
      ]
     },
     "execution_count": 18,
     "metadata": {},
     "output_type": "execute_result"
    }
   ],
   "source": [
    "# get amount of students in the top 1%\n",
    "top = int(len(students) * 0.01)\n",
    "\n",
    "# get students in the top 1%\n",
    "top_students = students.head(top)\n",
    "top_students"
   ]
  },
  {
   "cell_type": "code",
   "execution_count": 19,
   "id": "8faa167c",
   "metadata": {},
   "outputs": [
    {
     "data": {
      "image/png": "[encoded data removed]",
      "text/plain": [
       "<Figure size 432x288 with 1 Axes>"
      ]
     },
     "metadata": {
      "needs_background": "light"
     },
     "output_type": "display_data"
    }
   ],
   "source": [
    "sns.histplot(top_students[\"Exam_Score\"], edgecolor='blue',kde=True)\n",
    "plt.xlabel('Exam Score')\n",
    "plt.ylabel('Students')\n",
    "plt.title(\"Distribution of Top 1% Students' Exam Scores\")\n",
    "plt.show()"
   ]
  },
  {
   "cell_type": "code",
   "execution_count": 20,
   "id": "7c8947fa",
   "metadata": {
    "scrolled": true
   },
   "outputs": [
    {
     "name": "stdout",
     "output_type": "stream",
     "text": [
      "Average exam score of students in the top 1% is 87.\n"
     ]
    }
   ],
   "source": [
    "# calculate average exam score of students in the top 1% \n",
    "top_average = round(top_students[\"Exam_Score\"].mean())\n",
    "\n",
    "# display answer\n",
    "print(f\"Average exam score of students in the top 1% is {top_average}.\")"
   ]
  },
  {
   "cell_type": "markdown",
   "id": "2afa91ec",
   "metadata": {},
   "source": [
    "### Question 5\n",
    "How much is the percentage of students in the top 1% based on their motivation level?"
   ]
  },
  {
   "cell_type": "markdown",
   "id": "2e722ce5",
   "metadata": {},
   "source": [
    "- Percentage of students in the top 1% with high motivation level "
   ]
  },
  {
   "cell_type": "code",
   "execution_count": 21,
   "id": "7d090fff",
   "metadata": {},
   "outputs": [
    {
     "name": "stdout",
     "output_type": "stream",
     "text": [
      "Percentage of students in the top 1% with high motivation level is 27%.\n"
     ]
    }
   ],
   "source": [
    "# filter students with high motivation level\n",
    "top_m_high = top_students[\"Motivation_Level\"].value_counts()[\"High\"]\n",
    "\n",
    "# calculate percentage\n",
    "percentage_m_high = top_m_high/len(top_students) *100\n",
    "\n",
    "# display answer\n",
    "print(f\"Percentage of students in the top 1% with high motivation level is {percentage_m_high:.0f}%.\")"
   ]
  },
  {
   "cell_type": "markdown",
   "id": "c5435f0d",
   "metadata": {},
   "source": [
    "- Percentage of students in the top 1% with medium motivation level "
   ]
  },
  {
   "cell_type": "code",
   "execution_count": 22,
   "id": "d4a414a5",
   "metadata": {},
   "outputs": [
    {
     "name": "stdout",
     "output_type": "stream",
     "text": [
      "Percentage of students in the top 1% with medium motivation level is 48%.\n"
     ]
    }
   ],
   "source": [
    "# filter students with medium motivation level\n",
    "top_m_medium = top_students[\"Motivation_Level\"].value_counts()[\"Medium\"]\n",
    "\n",
    "# calculate percentage\n",
    "percentage_m_medium = top_m_medium/len(top_students) *100\n",
    "\n",
    "# display answer\n",
    "print(f\"Percentage of students in the top 1% with medium motivation level is {percentage_m_medium:.0f}%.\")"
   ]
  },
  {
   "cell_type": "markdown",
   "id": "32f98974",
   "metadata": {},
   "source": [
    "- Percentage of students in the top 1% with low motivation level "
   ]
  },
  {
   "cell_type": "code",
   "execution_count": 23,
   "id": "fc15ef43",
   "metadata": {},
   "outputs": [
    {
     "name": "stdout",
     "output_type": "stream",
     "text": [
      "Percentage of students in the top 1% with low motivation level is 25%.\n"
     ]
    }
   ],
   "source": [
    "# filter students with low motivation level\n",
    "top_m_low = top_students[\"Motivation_Level\"].value_counts()[\"Low\"]\n",
    "\n",
    "# calculate percentage\n",
    "percentage_m_low = top_m_low/len(top_students) *100\n",
    "\n",
    "# display answer\n",
    "print(f\"Percentage of students in the top 1% with low motivation level is {percentage_m_low:.0f}%.\")"
   ]
  },
  {
   "cell_type": "code",
   "execution_count": 24,
   "id": "5c6f5c8b",
   "metadata": {},
   "outputs": [
    {
     "data": {
      "image/png": "[encoded data removed]",
      "text/plain": [
       "<Figure size 288x288 with 1 Axes>"
      ]
     },
     "metadata": {},
     "output_type": "display_data"
    }
   ],
   "source": [
    "# get amount of students in the top 1% for each motivation level\n",
    "motivation = top_students['Motivation_Level'].value_counts()\n",
    "\n",
    "# create a pie chart\n",
    "plt.figure(figsize=(4, 4))\n",
    "wedges, texts, autotexts = plt.pie(motivation, autopct='%.0f%%', startangle=140, colors=colors, textprops={'fontsize': 10, 'color':'white'})\n",
    "colors = ['#1f77b4', '#4d92d1', '#7ab0eb']\n",
    "plt.title('Motivation Level Among the Top 1% Students', fontsize=10)\n",
    "plt.legend(wedges, parental_involvement_counts.index, title=\"Motivation Level\", loc=\"center left\", bbox_to_anchor=(1, 0, 0.5, 1))\n",
    "\n",
    "# display the chart\n",
    "plt.show()"
   ]
  },
  {
   "cell_type": "markdown",
   "id": "2ca89cbd",
   "metadata": {},
   "source": [
    "##  Discrete Variable Analysis\n"
   ]
  },
  {
   "cell_type": "markdown",
   "id": "f23882e7",
   "metadata": {},
   "source": [
    "### Question 1\n",
    "What is the probability of a student to be in the top 1% based on their family income?"
   ]
  },
  {
   "cell_type": "markdown",
   "id": "60ebe935",
   "metadata": {},
   "source": [
    "To find the probability for each family income level, we will use formula below on each levels.\n",
    "\n",
    "$$\n",
    "\\begin{align*}\n",
    "P({T} \\ | \\ {I}) &= \\cfrac{n({T} \\cap {I})}{n({I})} \\\\ \n",
    "\\end{align*}\n",
    "$$\n",
    "\n",
    "${T}$   : Students in the top 1%  \n",
    "${H}$ : All students with given family income level"
   ]
  },
  {
   "cell_type": "markdown",
   "id": "8a90f942",
   "metadata": {},
   "source": [
    "- Probabilty of students with high family income to be in the top 1%\n",
    "\n",
    "$$\n",
    "\\begin{align*}\n",
    "P({T} \\ | \\ {H}) &= \\cfrac{n({T} \\cap {H})}{n({H})} \\\\ \n",
    "\\end{align*}\n",
    "$$\n",
    "\n",
    "${T}$: Students in the top 1%  \n",
    "${H}$ : All students with high family income \n",
    "\n",
    "<br>"
   ]
  },
  {
   "cell_type": "code",
   "execution_count": 25,
   "id": "39ed400e",
   "metadata": {},
   "outputs": [],
   "source": [
    "# get students with high family income in the top 1%\n",
    "top_high = top_students[\"Family_Income\"].value_counts()[\"High\"]\n",
    "\n",
    "# get all students with high family income\n",
    "high_income = students[\"Family_Income\"].value_counts()[\"High\"]\n",
    "\n",
    "# probability of students with high family income to be in the top 1%\n",
    "p_high_income = top_high / high_income\n"
   ]
  },
  {
   "cell_type": "markdown",
   "id": "475712c5",
   "metadata": {},
   "source": [
    "- Probabilty of students with medium family income to be in the top 1%\n",
    "\n",
    "$$\n",
    "\\begin{align*}\n",
    "P({T} \\ | \\ {M}) &= \\cfrac{n({T} \\cap {M})}{n({M})} \\\\ \n",
    "\\end{align*}\n",
    "$$\n",
    "\n",
    "${T}$: Students in the top 1%  \n",
    "${M}$ : All students with medium family income \n"
   ]
  },
  {
   "cell_type": "code",
   "execution_count": 26,
   "id": "8ca0e373",
   "metadata": {},
   "outputs": [],
   "source": [
    "# get students with medium family income in the top 1%\n",
    "top_medium = top_students[\"Family_Income\"].value_counts()[\"Medium\"]\n",
    "\n",
    "# get all students with medium family income\n",
    "medium_income = students[\"Family_Income\"].value_counts()[\"Medium\"]\n",
    "\n",
    "# probability of students with medium family income to be in the top 1%\n",
    "p_medium_income = top_medium / medium_income\n"
   ]
  },
  {
   "cell_type": "markdown",
   "id": "062d78f6",
   "metadata": {},
   "source": [
    "- Probabilty of students with low family income to be in the top 1%\n",
    "\n",
    "$$\n",
    "\\begin{align*}\n",
    "P({T} \\ | \\ {L}) &= \\cfrac{n({T} \\cap {L})}{n({L})} \\\\ \n",
    "\\end{align*}\n",
    "$$\n",
    "\n",
    "${T}$: Students in the top 1%  \n",
    "${L}$ : All students with low family income \n"
   ]
  },
  {
   "cell_type": "code",
   "execution_count": 27,
   "id": "e63d6cb4",
   "metadata": {},
   "outputs": [],
   "source": [
    "# get students with low family income in the top 1%\n",
    "top_low = top_students[\"Family_Income\"].value_counts()[\"Low\"]\n",
    "\n",
    "# get all students with low family income\n",
    "low_income = students[\"Family_Income\"].value_counts()[\"Low\"]\n",
    "\n",
    "# probability of students with low family income to be in the top 1%\n",
    "p_low_income = top_low / low_income"
   ]
  },
  {
   "cell_type": "code",
   "execution_count": 28,
   "id": "e8ca8d8b",
   "metadata": {},
   "outputs": [
    {
     "name": "stdout",
     "output_type": "stream",
     "text": [
      "Probabilty of students with high family income to be in the top 1% is 0.0138\n",
      "Probabilty of students with medium family income to be in the top 1% is 0.0090\n",
      "Probabilty of students with low family income to be in the top 1% is 0.0089\n"
     ]
    }
   ],
   "source": [
    "# print answer\n",
    "print(f\"Probabilty of students with high family income to be in the top 1% is {p_high_income:.4f}\")\n",
    "print(f\"Probabilty of students with medium family income to be in the top 1% is {p_medium_income:.4f}\")\n",
    "print(f\"Probabilty of students with low family income to be in the top 1% is {p_low_income:.4f}\")"
   ]
  },
  {
   "cell_type": "markdown",
   "id": "3cabc48b",
   "metadata": {},
   "source": [
    "### Question 2\n",
    "What is the probability that a student in the top 1% has a `Near` `Distance_from_Home`?\n",
    "$$\n",
    "\\begin{align*}\n",
    "P({N} \\ | \\ {T}) &= \\cfrac{n({N} \\cap {T})}{n({T})} \\\\ \n",
    "\\end{align*}\n",
    "$$\n",
    "\n",
    "${N}$ : Students with near distance from home  \n",
    "${T}$: Students in the top 1%  "
   ]
  },
  {
   "cell_type": "code",
   "execution_count": 29,
   "id": "c510a51d",
   "metadata": {},
   "outputs": [
    {
     "name": "stdout",
     "output_type": "stream",
     "text": [
      "Probability of a student in the top 1% has a near school distance is 60%\n"
     ]
    }
   ],
   "source": [
    "# get students with near distance home in the top 1%\n",
    "top_near = top_students[\"Distance_from_Home\"].value_counts()[\"Near\"]\n",
    "\n",
    "# find probability\n",
    "p_top_near = top_near / top *100\n",
    "\n",
    "# display answer\n",
    "print(f\"Probability of a student in the top 1% has a near school distance is {p_top_near:.0f}%\") "
   ]
  },
  {
   "cell_type": "markdown",
   "id": "6b75bb8f",
   "metadata": {},
   "source": [
    "### Question 3\n",
    "What is the probability that a student in the top 1% is `Female`?\n",
    "$$\n",
    "\\begin{align*}\n",
    "P({F} \\ | \\ {T}) &= \\cfrac{n({F} \\cap {T})}{n({T})} \\\\ \n",
    "\\end{align*}\n",
    "$$\n",
    "\n",
    "${F}$ : Female students   \n",
    "${T}$: All students in the top 1%  "
   ]
  },
  {
   "cell_type": "code",
   "execution_count": 30,
   "id": "42c7ddcb",
   "metadata": {},
   "outputs": [
    {
     "name": "stdout",
     "output_type": "stream",
     "text": [
      "Probability that a student in the top 1% is `Female` is 49%\n"
     ]
    }
   ],
   "source": [
    "# get female students in the top 1%\n",
    "top_female = top_students[\"Gender\"].value_counts()[\"Female\"]\n",
    "\n",
    "# find probability\n",
    "p_top_female = top_female / top\n",
    "\n",
    "# display answer\n",
    "print(f\"Probability that a student in the top 1% is `Female` is {p_top_female * 100:.0f}%\") "
   ]
  },
  {
   "cell_type": "markdown",
   "id": "122c6bf6",
   "metadata": {},
   "source": [
    "### Question 4\n",
    "What is the probability that a student in the top 1% is `Male`?\n",
    "\n",
    "$$\n",
    "\\begin{align*}\n",
    "P({M} \\ | \\ {T}) &= \\cfrac{n({M} \\cap {T})}{n({T})} \\\\ \n",
    "\\end{align*}\n",
    "$$\n",
    "\n",
    "${M}$ : Male students   \n",
    "${T}$: All students in the top 1%  "
   ]
  },
  {
   "cell_type": "code",
   "execution_count": 31,
   "id": "2a2bd483",
   "metadata": {},
   "outputs": [
    {
     "name": "stdout",
     "output_type": "stream",
     "text": [
      "Probability that a student in the top 1% is `Male` is 51%\n"
     ]
    }
   ],
   "source": [
    "# get male students in the top 1%\n",
    "top_male = (top_students[\"Gender\"] == \"Male\").sum()\n",
    "\n",
    "# find probability\n",
    "p_top_male = top_male / top\n",
    "\n",
    "print(f\"Probability that a student in the top 1% is `Male` is {p_top_male * 100:.0f}%\") "
   ]
  },
  {
   "cell_type": "markdown",
   "id": "2d1fa14e",
   "metadata": {},
   "source": [
    "### Question 5\n",
    "How is the distribution of the students' `Exam_Score`?"
   ]
  },
  {
   "cell_type": "code",
   "execution_count": 32,
   "id": "89d2f4ad",
   "metadata": {},
   "outputs": [
    {
     "data": {
      "image/png": "[encoded data removed]",
      "text/plain": [
       "<Figure size 432x288 with 1 Axes>"
      ]
     },
     "metadata": {
      "needs_background": "light"
     },
     "output_type": "display_data"
    }
   ],
   "source": [
    "sns.histplot(students[\"Exam_Score\"], edgecolor='blue',kde=True)\n",
    "plt.xlabel('Exam Score')\n",
    "plt.ylabel('Students')\n",
    "plt.title(\"Distribution of Students' Exam Scores\")\n",
    "plt.show()"
   ]
  },
  {
   "cell_type": "markdown",
   "id": "50fbdd2a",
   "metadata": {},
   "source": [
    "The graph shows a bell-shape curve which means that the data is normally distributed (**Normal Distribution**)"
   ]
  },
  {
   "cell_type": "markdown",
   "id": "157ffe58",
   "metadata": {},
   "source": [
    "##  Continuous Variable Analysis"
   ]
  },
  {
   "cell_type": "markdown",
   "id": "32a48803",
   "metadata": {},
   "source": [
    "### Question 1\n",
    "Which one is more likely to score at least 67, students studied at least 20 hours or less?"
   ]
  },
  {
   "cell_type": "code",
   "execution_count": 33,
   "id": "e75ca59b",
   "metadata": {},
   "outputs": [
    {
     "data": {
      "image/png": "[encoded data removed]",
      "text/plain": [
       "<Figure size 720x432 with 1 Axes>"
      ]
     },
     "metadata": {
      "needs_background": "light"
     },
     "output_type": "display_data"
    }
   ],
   "source": [
    "plt.figure(figsize=(10, 6))\n",
    "sns.regplot(x='Hours_Studied', y='Exam_Score', data=students, scatter_kws={'s': 50}, line_kws={'color': 'blue'})\n",
    "plt.xlabel('Hours Studied', fontsize=14)\n",
    "plt.ylabel('Exam Score', fontsize=14)\n",
    "plt.title(\"Relationship Between Hours Studied and Exam Scores\", fontsize=16)\n",
    "plt.show()\n"
   ]
  },
  {
   "cell_type": "code",
   "execution_count": 34,
   "id": "e7054773",
   "metadata": {},
   "outputs": [
    {
     "name": "stdout",
     "output_type": "stream",
     "text": [
      "Probability of a student who studied at least 20 hours to score at least 67 is 71%\n"
     ]
    }
   ],
   "source": [
    "# students who studied at least 20 hours\n",
    "pass_studied_more = ((students[\"Hours_Studied\"] >= 20) & (students[\"Exam_Score\"] >= 67)) .sum()\n",
    "studied_more = (students[\"Hours_Studied\"] >= 20).sum()\n",
    "\n",
    "p_pass_studied_more = pass_studied_more / studied_more\n",
    "print(f\"Probability of a student who studied at least 20 hours to score at least 67 is {p_pass_studied_more * 100 :.0f}%\")"
   ]
  },
  {
   "cell_type": "code",
   "execution_count": 35,
   "id": "15465e55",
   "metadata": {},
   "outputs": [
    {
     "name": "stdout",
     "output_type": "stream",
     "text": [
      "Probability of a student who studied less than 20 hours to score at least 67 is 40%\n"
     ]
    }
   ],
   "source": [
    "# students who studied less than 20 hours\n",
    "pass_studied_less = ((students[\"Hours_Studied\"] < 20) & (students[\"Exam_Score\"] >= 67)).sum()\n",
    "studied_less = (students[\"Hours_Studied\"] < 20).sum()\n",
    "\n",
    "p_pass_studied_less = pass_studied_less / studied_less\n",
    "print(f\"Probability of a student who studied less than 20 hours to score at least 67 is {p_pass_studied_less * 100 :.0f}%\")"
   ]
  },
  {
   "cell_type": "markdown",
   "id": "5d175bc9",
   "metadata": {},
   "source": [
    "Therefore, students who studied at least 20 hours are more likely to score at least 67 compared to the one who studied less than 20 hours."
   ]
  },
  {
   "cell_type": "markdown",
   "id": "457c359a",
   "metadata": {},
   "source": [
    "### Question 2\n",
    "Which one is more likely to score at least 67, students who have at least 80% attendances or less?"
   ]
  },
  {
   "cell_type": "code",
   "execution_count": 36,
   "id": "eec3d758",
   "metadata": {},
   "outputs": [
    {
     "data": {
      "image/png": "[encoded data removed]",
      "text/plain": [
       "<Figure size 720x432 with 1 Axes>"
      ]
     },
     "metadata": {
      "needs_background": "light"
     },
     "output_type": "display_data"
    }
   ],
   "source": [
    "plt.figure(figsize=(10, 6))\n",
    "sns.regplot(x='Attendance', y='Exam_Score', data=students, scatter_kws={'s': 50}, line_kws={'color': 'blue'})\n",
    "plt.xlabel('Attendance', fontsize=14)\n",
    "plt.ylabel('Exam Score', fontsize=14)\n",
    "plt.title(\"Relationship Between Attendance and Exam Scores\", fontsize=16)\n",
    "plt.show()"
   ]
  },
  {
   "cell_type": "code",
   "execution_count": 37,
   "id": "e75c783e",
   "metadata": {},
   "outputs": [
    {
     "name": "stdout",
     "output_type": "stream",
     "text": [
      "Probability of students who have at least 80% attendances to score at least 67 is 82%\n"
     ]
    }
   ],
   "source": [
    "# students who have at least 80 attendances\n",
    "pass_attend_more = ((students[\"Attendance\"] >= 80) & (students[\"Exam_Score\"] >= 67)).sum()\n",
    "attend_more = (students[\"Attendance\"] >= 80).sum()\n",
    "\n",
    "p_pass_attend_more = pass_attend_more / attend_more\n",
    "print(f\"Probability of students who have at least 80% attendances to score at least 67 is {p_pass_attend_more * 100 :.0f}%\")"
   ]
  },
  {
   "cell_type": "code",
   "execution_count": 38,
   "id": "7ed26870",
   "metadata": {},
   "outputs": [
    {
     "name": "stdout",
     "output_type": "stream",
     "text": [
      "Probability of students who have less than 80% attendances to score at least 67 is 30%\n"
     ]
    }
   ],
   "source": [
    "# students who have less than 80 attendances\n",
    "pass_attend_less = ((students[\"Attendance\"] < 80) & (students[\"Exam_Score\"] >= 67)).sum()\n",
    "attend_less = (students[\"Attendance\"] < 80).sum()\n",
    "\n",
    "p_pass_attend_less = pass_attend_less / attend_less\n",
    "print(f\"Probability of students who have less than 80% attendances to score at least 67 is {p_pass_attend_less * 100 :.0f}%\")"
   ]
  },
  {
   "cell_type": "markdown",
   "id": "a4060b80",
   "metadata": {},
   "source": [
    "Therefore, students who have at least 80% attendances are more likely to score at least 67 compared to the one who have less than 80% attendances."
   ]
  },
  {
   "cell_type": "markdown",
   "id": "b5467431",
   "metadata": {},
   "source": [
    "## Variable Correlation Analysis"
   ]
  },
  {
   "cell_type": "markdown",
   "id": "f753bae7",
   "metadata": {},
   "source": [
    "Correlation is a statistical measure that expresses the extent to which two variables are linearly related (meaning they change together at a constant rate). To answer correlation related question, a heatmap containing correlation coefficients between variables is created."
   ]
  },
  {
   "cell_type": "code",
   "execution_count": 39,
   "id": "d853b2aa",
   "metadata": {},
   "outputs": [
    {
     "data": {
      "text/html": [
       "<div>\n",
       "<style scoped>\n",
       "    .dataframe tbody tr th:only-of-type {\n",
       "        vertical-align: middle;\n",
       "    }\n",
       "\n",
       "    .dataframe tbody tr th {\n",
       "        vertical-align: top;\n",
       "    }\n",
       "\n",
       "    .dataframe thead th {\n",
       "        text-align: right;\n",
       "    }\n",
       "</style>\n",
       "<table border=\"1\" class=\"dataframe\">\n",
       "  <thead>\n",
       "    <tr style=\"text-align: right;\">\n",
       "      <th></th>\n",
       "      <th>Hours_Studied</th>\n",
       "      <th>Attendance</th>\n",
       "      <th>Parental_Involvement</th>\n",
       "      <th>Access_to_Resources</th>\n",
       "      <th>Extracurricular_Activities</th>\n",
       "      <th>Sleep_Hours</th>\n",
       "      <th>Previous_Scores</th>\n",
       "      <th>Motivation_Level</th>\n",
       "      <th>Internet_Access</th>\n",
       "      <th>Tutoring_Sessions</th>\n",
       "      <th>Family_Income</th>\n",
       "      <th>Teacher_Quality</th>\n",
       "      <th>School_Type</th>\n",
       "      <th>Peer_Influence</th>\n",
       "      <th>Physical_Activity</th>\n",
       "      <th>Learning_Disabilities</th>\n",
       "      <th>Parental_Education_Level</th>\n",
       "      <th>Distance_from_Home</th>\n",
       "      <th>Gender</th>\n",
       "      <th>Exam_Score</th>\n",
       "    </tr>\n",
       "  </thead>\n",
       "  <tbody>\n",
       "    <tr>\n",
       "      <th>1525</th>\n",
       "      <td>27</td>\n",
       "      <td>98</td>\n",
       "      <td>Low</td>\n",
       "      <td>Medium</td>\n",
       "      <td>Yes</td>\n",
       "      <td>6</td>\n",
       "      <td>93</td>\n",
       "      <td>Low</td>\n",
       "      <td>No</td>\n",
       "      <td>5</td>\n",
       "      <td>High</td>\n",
       "      <td>High</td>\n",
       "      <td>Public</td>\n",
       "      <td>Positive</td>\n",
       "      <td>3</td>\n",
       "      <td>No</td>\n",
       "      <td>High School</td>\n",
       "      <td>Moderate</td>\n",
       "      <td>Female</td>\n",
       "      <td>101</td>\n",
       "    </tr>\n",
       "    <tr>\n",
       "      <th>94</th>\n",
       "      <td>18</td>\n",
       "      <td>89</td>\n",
       "      <td>High</td>\n",
       "      <td>Medium</td>\n",
       "      <td>Yes</td>\n",
       "      <td>4</td>\n",
       "      <td>73</td>\n",
       "      <td>Medium</td>\n",
       "      <td>Yes</td>\n",
       "      <td>3</td>\n",
       "      <td>High</td>\n",
       "      <td>Medium</td>\n",
       "      <td>Private</td>\n",
       "      <td>Positive</td>\n",
       "      <td>2</td>\n",
       "      <td>No</td>\n",
       "      <td>College</td>\n",
       "      <td>Near</td>\n",
       "      <td>Female</td>\n",
       "      <td>100</td>\n",
       "    </tr>\n",
       "    <tr>\n",
       "      <th>3579</th>\n",
       "      <td>14</td>\n",
       "      <td>90</td>\n",
       "      <td>High</td>\n",
       "      <td>High</td>\n",
       "      <td>Yes</td>\n",
       "      <td>8</td>\n",
       "      <td>86</td>\n",
       "      <td>Medium</td>\n",
       "      <td>Yes</td>\n",
       "      <td>4</td>\n",
       "      <td>Medium</td>\n",
       "      <td>Medium</td>\n",
       "      <td>Private</td>\n",
       "      <td>Negative</td>\n",
       "      <td>2</td>\n",
       "      <td>No</td>\n",
       "      <td>High School</td>\n",
       "      <td>Near</td>\n",
       "      <td>Female</td>\n",
       "      <td>99</td>\n",
       "    </tr>\n",
       "    <tr>\n",
       "      <th>2425</th>\n",
       "      <td>23</td>\n",
       "      <td>83</td>\n",
       "      <td>High</td>\n",
       "      <td>High</td>\n",
       "      <td>Yes</td>\n",
       "      <td>4</td>\n",
       "      <td>89</td>\n",
       "      <td>Low</td>\n",
       "      <td>Yes</td>\n",
       "      <td>1</td>\n",
       "      <td>Medium</td>\n",
       "      <td>Medium</td>\n",
       "      <td>Public</td>\n",
       "      <td>Negative</td>\n",
       "      <td>3</td>\n",
       "      <td>No</td>\n",
       "      <td>High School</td>\n",
       "      <td>Far</td>\n",
       "      <td>Male</td>\n",
       "      <td>99</td>\n",
       "    </tr>\n",
       "    <tr>\n",
       "      <th>6393</th>\n",
       "      <td>16</td>\n",
       "      <td>83</td>\n",
       "      <td>Low</td>\n",
       "      <td>Medium</td>\n",
       "      <td>Yes</td>\n",
       "      <td>8</td>\n",
       "      <td>92</td>\n",
       "      <td>Low</td>\n",
       "      <td>Yes</td>\n",
       "      <td>2</td>\n",
       "      <td>High</td>\n",
       "      <td>High</td>\n",
       "      <td>Public</td>\n",
       "      <td>Positive</td>\n",
       "      <td>4</td>\n",
       "      <td>No</td>\n",
       "      <td>Postgraduate</td>\n",
       "      <td>Near</td>\n",
       "      <td>Female</td>\n",
       "      <td>98</td>\n",
       "    </tr>\n",
       "    <tr>\n",
       "      <th>...</th>\n",
       "      <td>...</td>\n",
       "      <td>...</td>\n",
       "      <td>...</td>\n",
       "      <td>...</td>\n",
       "      <td>...</td>\n",
       "      <td>...</td>\n",
       "      <td>...</td>\n",
       "      <td>...</td>\n",
       "      <td>...</td>\n",
       "      <td>...</td>\n",
       "      <td>...</td>\n",
       "      <td>...</td>\n",
       "      <td>...</td>\n",
       "      <td>...</td>\n",
       "      <td>...</td>\n",
       "      <td>...</td>\n",
       "      <td>...</td>\n",
       "      <td>...</td>\n",
       "      <td>...</td>\n",
       "      <td>...</td>\n",
       "    </tr>\n",
       "    <tr>\n",
       "      <th>3543</th>\n",
       "      <td>14</td>\n",
       "      <td>67</td>\n",
       "      <td>Low</td>\n",
       "      <td>Low</td>\n",
       "      <td>Yes</td>\n",
       "      <td>7</td>\n",
       "      <td>66</td>\n",
       "      <td>Low</td>\n",
       "      <td>Yes</td>\n",
       "      <td>0</td>\n",
       "      <td>Low</td>\n",
       "      <td>Medium</td>\n",
       "      <td>Public</td>\n",
       "      <td>Neutral</td>\n",
       "      <td>4</td>\n",
       "      <td>No</td>\n",
       "      <td>High School</td>\n",
       "      <td>Far</td>\n",
       "      <td>Female</td>\n",
       "      <td>57</td>\n",
       "    </tr>\n",
       "    <tr>\n",
       "      <th>5719</th>\n",
       "      <td>9</td>\n",
       "      <td>64</td>\n",
       "      <td>Medium</td>\n",
       "      <td>Low</td>\n",
       "      <td>Yes</td>\n",
       "      <td>10</td>\n",
       "      <td>68</td>\n",
       "      <td>Low</td>\n",
       "      <td>Yes</td>\n",
       "      <td>0</td>\n",
       "      <td>Medium</td>\n",
       "      <td>Medium</td>\n",
       "      <td>Private</td>\n",
       "      <td>Negative</td>\n",
       "      <td>3</td>\n",
       "      <td>No</td>\n",
       "      <td>High School</td>\n",
       "      <td>Near</td>\n",
       "      <td>Male</td>\n",
       "      <td>57</td>\n",
       "    </tr>\n",
       "    <tr>\n",
       "      <th>2880</th>\n",
       "      <td>7</td>\n",
       "      <td>66</td>\n",
       "      <td>High</td>\n",
       "      <td>Low</td>\n",
       "      <td>Yes</td>\n",
       "      <td>8</td>\n",
       "      <td>68</td>\n",
       "      <td>High</td>\n",
       "      <td>Yes</td>\n",
       "      <td>0</td>\n",
       "      <td>Low</td>\n",
       "      <td>Medium</td>\n",
       "      <td>Public</td>\n",
       "      <td>Negative</td>\n",
       "      <td>2</td>\n",
       "      <td>Yes</td>\n",
       "      <td>College</td>\n",
       "      <td>Moderate</td>\n",
       "      <td>Male</td>\n",
       "      <td>57</td>\n",
       "    </tr>\n",
       "    <tr>\n",
       "      <th>5507</th>\n",
       "      <td>5</td>\n",
       "      <td>65</td>\n",
       "      <td>Low</td>\n",
       "      <td>High</td>\n",
       "      <td>No</td>\n",
       "      <td>7</td>\n",
       "      <td>71</td>\n",
       "      <td>Medium</td>\n",
       "      <td>Yes</td>\n",
       "      <td>0</td>\n",
       "      <td>Low</td>\n",
       "      <td>Medium</td>\n",
       "      <td>Private</td>\n",
       "      <td>Negative</td>\n",
       "      <td>2</td>\n",
       "      <td>No</td>\n",
       "      <td>College</td>\n",
       "      <td>Far</td>\n",
       "      <td>Male</td>\n",
       "      <td>56</td>\n",
       "    </tr>\n",
       "    <tr>\n",
       "      <th>1101</th>\n",
       "      <td>3</td>\n",
       "      <td>62</td>\n",
       "      <td>Medium</td>\n",
       "      <td>Low</td>\n",
       "      <td>No</td>\n",
       "      <td>6</td>\n",
       "      <td>67</td>\n",
       "      <td>Medium</td>\n",
       "      <td>Yes</td>\n",
       "      <td>1</td>\n",
       "      <td>Low</td>\n",
       "      <td>Medium</td>\n",
       "      <td>Public</td>\n",
       "      <td>Negative</td>\n",
       "      <td>3</td>\n",
       "      <td>No</td>\n",
       "      <td>High School</td>\n",
       "      <td>Near</td>\n",
       "      <td>Male</td>\n",
       "      <td>55</td>\n",
       "    </tr>\n",
       "  </tbody>\n",
       "</table>\n",
       "<p>6378 rows × 20 columns</p>\n",
       "</div>"
      ],
      "text/plain": [
       "      Hours_Studied  Attendance Parental_Involvement Access_to_Resources  \\\n",
       "1525             27          98                  Low              Medium   \n",
       "94               18          89                 High              Medium   \n",
       "3579             14          90                 High                High   \n",
       "2425             23          83                 High                High   \n",
       "6393             16          83                  Low              Medium   \n",
       "...             ...         ...                  ...                 ...   \n",
       "3543             14          67                  Low                 Low   \n",
       "5719              9          64               Medium                 Low   \n",
       "2880              7          66                 High                 Low   \n",
       "5507              5          65                  Low                High   \n",
       "1101              3          62               Medium                 Low   \n",
       "\n",
       "     Extracurricular_Activities  Sleep_Hours  Previous_Scores  \\\n",
       "1525                        Yes            6               93   \n",
       "94                          Yes            4               73   \n",
       "3579                        Yes            8               86   \n",
       "2425                        Yes            4               89   \n",
       "6393                        Yes            8               92   \n",
       "...                         ...          ...              ...   \n",
       "3543                        Yes            7               66   \n",
       "5719                        Yes           10               68   \n",
       "2880                        Yes            8               68   \n",
       "5507                         No            7               71   \n",
       "1101                         No            6               67   \n",
       "\n",
       "     Motivation_Level Internet_Access  Tutoring_Sessions Family_Income  \\\n",
       "1525              Low              No                  5          High   \n",
       "94             Medium             Yes                  3          High   \n",
       "3579           Medium             Yes                  4        Medium   \n",
       "2425              Low             Yes                  1        Medium   \n",
       "6393              Low             Yes                  2          High   \n",
       "...               ...             ...                ...           ...   \n",
       "3543              Low             Yes                  0           Low   \n",
       "5719              Low             Yes                  0        Medium   \n",
       "2880             High             Yes                  0           Low   \n",
       "5507           Medium             Yes                  0           Low   \n",
       "1101           Medium             Yes                  1           Low   \n",
       "\n",
       "     Teacher_Quality School_Type Peer_Influence  Physical_Activity  \\\n",
       "1525            High      Public       Positive                  3   \n",
       "94            Medium     Private       Positive                  2   \n",
       "3579          Medium     Private       Negative                  2   \n",
       "2425          Medium      Public       Negative                  3   \n",
       "6393            High      Public       Positive                  4   \n",
       "...              ...         ...            ...                ...   \n",
       "3543          Medium      Public        Neutral                  4   \n",
       "5719          Medium     Private       Negative                  3   \n",
       "2880          Medium      Public       Negative                  2   \n",
       "5507          Medium     Private       Negative                  2   \n",
       "1101          Medium      Public       Negative                  3   \n",
       "\n",
       "     Learning_Disabilities Parental_Education_Level Distance_from_Home  \\\n",
       "1525                    No              High School           Moderate   \n",
       "94                      No                  College               Near   \n",
       "3579                    No              High School               Near   \n",
       "2425                    No              High School                Far   \n",
       "6393                    No             Postgraduate               Near   \n",
       "...                    ...                      ...                ...   \n",
       "3543                    No              High School                Far   \n",
       "5719                    No              High School               Near   \n",
       "2880                   Yes                  College           Moderate   \n",
       "5507                    No                  College                Far   \n",
       "1101                    No              High School               Near   \n",
       "\n",
       "      Gender  Exam_Score  \n",
       "1525  Female         101  \n",
       "94    Female         100  \n",
       "3579  Female          99  \n",
       "2425    Male          99  \n",
       "6393  Female          98  \n",
       "...      ...         ...  \n",
       "3543  Female          57  \n",
       "5719    Male          57  \n",
       "2880    Male          57  \n",
       "5507    Male          56  \n",
       "1101    Male          55  \n",
       "\n",
       "[6378 rows x 20 columns]"
      ]
     },
     "execution_count": 39,
     "metadata": {},
     "output_type": "execute_result"
    }
   ],
   "source": [
    "students"
   ]
  },
  {
   "cell_type": "code",
   "execution_count": 40,
   "id": "c9e3794e",
   "metadata": {},
   "outputs": [
    {
     "data": {
      "image/png": "[encoded data removed]",
      "text/plain": [
       "<Figure size 1152x864 with 2 Axes>"
      ]
     },
     "metadata": {
      "needs_background": "light"
     },
     "output_type": "display_data"
    }
   ],
   "source": [
    "# encode binary variables\n",
    "c_students = students.copy()\n",
    "binary_map = {'Yes': 1, 'No': 0, 'Male': 1, 'Female': 0, 'Public': 0, 'Private': 1}\n",
    "c_students['Internet_Access'] = c_students['Internet_Access'].map(binary_map)\n",
    "c_students['Extracurricular_Activities'] = c_students['Extracurricular_Activities'].map(binary_map)\n",
    "c_students['Learning_Disabilities'] = c_students['Learning_Disabilities'].map(binary_map)\n",
    "c_students['Gender'] = c_students['Gender'].map(binary_map)\n",
    "c_students['School_Type'] = c_students['School_Type'].map(binary_map)\n",
    "\n",
    "# encode ordinal variables\n",
    "ordinal_mappings = {\n",
    "    'Motivation_Level': {'Low': 1, 'Medium': 2, 'High': 3},\n",
    "    'Parental_Involvement': {'Low': 1, 'Medium': 2, 'High': 3},\n",
    "    'Access_to_Resources': {'Low': 1, 'Medium': 2, 'High': 3},\n",
    "    'Family_Income': {'Low': 1, 'Medium': 2, 'High': 3},\n",
    "    'Teacher_Quality': {'Low': 1, 'Medium': 2, 'High': 3},\n",
    "    'Peer_Influence': {'Negative': 1, 'Neutral': 2, 'Positive': 3},\n",
    "    'Parental_Education_Level': {'High School': 1, 'College': 2, 'Postgraduate': 3},\n",
    "    'Distance_from_Home': {'Near': 1, 'Moderate': 2, 'Far': 3}\n",
    "}\n",
    "\n",
    "c_students.replace(ordinal_mappings, inplace=True)\n",
    "\n",
    "# create correlation matrix\n",
    "numeric_columns = c_students.select_dtypes(include='number')\n",
    "corr_matrix = numeric_columns.corr()\n",
    "\n",
    "# display a heatmap\n",
    "plt.figure(figsize=(16, 12))\n",
    "sns.heatmap(corr_matrix, mask=np.triu(np.ones_like(corr_matrix, dtype=bool)), annot=True, annot_kws={\"size\": 12}, cmap='coolwarm', linewidths=0.5, fmt=\".2f\")\n",
    "plt.title('Heatmap of Correlation Between Variables')\n",
    "plt.show()"
   ]
  },
  {
   "cell_type": "markdown",
   "id": "a12a2f97",
   "metadata": {},
   "source": [
    "### Question 1\n",
    "How is the correlation between students' `Exam_Score` and `Sleep_Hours`?"
   ]
  },
  {
   "cell_type": "markdown",
   "id": "4ce6b486",
   "metadata": {},
   "source": [
    "From the graph above, correlation coefficient between students' `Exam_Score` and `Hours_Studied` is -0.02, which means that it has negative correlation where the more `Sleep_Hours`, the lower their `Exam_Score` is."
   ]
  },
  {
   "cell_type": "markdown",
   "id": "228cd039",
   "metadata": {},
   "source": [
    "### Question 2\n",
    "How is the correlation between students' `Exam_Score` and `Attendance`?"
   ]
  },
  {
   "cell_type": "markdown",
   "id": "8aaba3b9",
   "metadata": {},
   "source": [
    "From the graph above, correlation coefficient between students' `Exam_Score` and `Attendance` is 0.58, which means that it has strong positive correlation where the more `Attendance`, the higher their `Exam_Score` is. From the graph, it is also shown that this variable has the highest correlation coefficient compared to the other factors."
   ]
  },
  {
   "cell_type": "markdown",
   "id": "49ce56af",
   "metadata": {},
   "source": [
    "##  Hypothesis Test\n"
   ]
  },
  {
   "cell_type": "markdown",
   "id": "6f608a85",
   "metadata": {},
   "source": [
    "### Question 1\n",
    "`Exam_Score` of students with high `Access to Resources` is higher than other students' `Exam_Score`."
   ]
  },
  {
   "cell_type": "markdown",
   "id": "dc068b52",
   "metadata": {},
   "source": [
    "Given $\\bar{x_h}$ is the average `Exam_Score` of students with `high` `Access to Resources` and $\\bar{x_o}$ is the average `Exam_Score` of the rest of the students, then hypothesis of this question is:\n",
    "\n",
    "$$H_0: \\bar{x_h} \\leq \\bar{x_o} $$ \n",
    "$$H_1: \\bar{x_h} > \\bar{x_o}$$"
   ]
  },
  {
   "cell_type": "markdown",
   "id": "cac8f958",
   "metadata": {},
   "source": [
    "To do this hypothesis test, we will use a z-test with formula below."
   ]
  },
  {
   "cell_type": "markdown",
   "id": "658a42c3",
   "metadata": {},
   "source": [
    "$$ z = \\frac{{\\bar{x_h} - \\bar{x_o}}}{{\\sigma \\times \\sqrt{\\frac{1}{n_h} + \\frac{1}{n_o}}}} $$"
   ]
  },
  {
   "cell_type": "markdown",
   "id": "4486ea6b",
   "metadata": {},
   "source": [
    "$\\sigma$ = Population standard deviation  \n",
    "${n_h}$  = Students with high access to resources  \n",
    "${n_o}$  = Students with medium and low access to resources  "
   ]
  },
  {
   "cell_type": "code",
   "execution_count": 41,
   "id": "38f6b449",
   "metadata": {},
   "outputs": [
    {
     "name": "stdout",
     "output_type": "stream",
     "text": [
      "z-test: 11.310523910240724, p-value: 0.0\n",
      "----------------------------------------------------------------------------------------------------\n",
      "Reject the null hypothesis\n",
      "Conclusion: Students with high access to resources have higher exam scores.\n"
     ]
    }
   ],
   "source": [
    "# get students with 'High' access to resources\n",
    "high_access = students[students['Access_to_Resources'] == 'High']['Exam_Score']\n",
    "n_high_access = len(high_access)\n",
    "\n",
    "# get the average exam score\n",
    "m_high_access = high_access.mean()\n",
    "\n",
    "# get students with 'Medium' or 'Low' access to resources\n",
    "other_access = students[students['Access_to_Resources'] != 'High']['Exam_Score']\n",
    "n_other_access = len(other_access)\n",
    "\n",
    "# get the average exam score\n",
    "m_other_access = other_access.mean()\n",
    "\n",
    "# known population standard deviation\n",
    "population_std = 3.914217\n",
    "\n",
    "# set a significance level\n",
    "significance_level = 0.05\n",
    "\n",
    "# conducting z-test\n",
    "z_test = (m_high_access - m_other_access) / (population_std * np.sqrt(1/n_high_access + 1/n_other_access))\n",
    "p_value = 1 - norm.cdf(z_test)\n",
    "\n",
    "# print the results\n",
    "print(f\"z-test: {z_test}, p-value: {p_value}\")\n",
    "print(\"-\"*100)\n",
    "\n",
    "# decide results\n",
    "if p_value < significance_level:\n",
    "    print(\"Reject the null hypothesis\")\n",
    "    print(\"Conclusion: Students with high access to resources have higher exam scores.\")\n",
    "else:\n",
    "    print(\"Fail to reject the null hypothesis\") \n",
    "    print(\"Conclusion: No evidence that students with high access to resources have higher exam scores.\")\n"
   ]
  },
  {
   "cell_type": "markdown",
   "id": "ed6b060a",
   "metadata": {},
   "source": [
    "### Question 2"
   ]
  },
  {
   "cell_type": "markdown",
   "id": "bf9479fd",
   "metadata": {},
   "source": [
    "In the top 1%, proportion of `Female` students is higher than `Male` students."
   ]
  },
  {
   "cell_type": "markdown",
   "id": "734aca16",
   "metadata": {},
   "source": [
    "Hypothesis of this question is:  \n",
    "$H_0$: Proportion of `Female` students is less than or equal to `Male` students   \n",
    "$H_1$: Proportion of `Female` students is higher than `Male` students  \n",
    "\n",
    "To this hypothesis test we will z-test for proportions using formula below\n",
    "$$ z = \\frac{{p_f}-{p}_m}{\\sqrt{\\frac{p_f(1-p_f)}{n}}} $$\n",
    "\n",
    "${p_f}$ : Proportion of female students in the top 1%  \n",
    "${p_m}$ : Proportion of female students in the top 1%   \n",
    "${n}$       : All students in the top 1%  "
   ]
  },
  {
   "cell_type": "code",
   "execution_count": 43,
   "id": "585435a1",
   "metadata": {},
   "outputs": [
    {
     "name": "stdout",
     "output_type": "stream",
     "text": [
      "z-test: 1.135537324050456, p-value: 0.12807512631819573\n",
      "----------------------------------------------------------------------------------------------------\n",
      "Fail to reject the null hypothesis\n",
      "Conclusion: No evidence that the proportion of female students in the top 1% is higher.\n"
     ]
    }
   ],
   "source": [
    "# get each female students in the top 1%\n",
    "top_female = (top_students[\"Gender\"] == \"Female\").sum()\n",
    "\n",
    "# get male students in the top 1%\n",
    "top_male = (top_students[\"Gender\"] == \"Male\").sum()\n",
    "\n",
    "# get total number of female students\n",
    "total_female = (students[\"Gender\"] == \"Female\").sum()\n",
    "\n",
    "# get total number of male students\n",
    "total_male = (students[\"Gender\"] == \"Male\").sum()\n",
    "\n",
    "# set a significance level\n",
    "significance_level = 0.05\n",
    "\n",
    "# conducting a z-test for proportions\n",
    "count = [top_female, top_male]\n",
    "nobs = [total_female , total_male]\n",
    "\n",
    "z_test, p_value = proportions_ztest(count, nobs, alternative='larger')\n",
    "\n",
    "# print results\n",
    "print(f\"z-test: {z_test}, p-value: {p_value}\")\n",
    "print(\"-\"*100)\n",
    "\n",
    "# decide results\n",
    "if p_value < significance_level:\n",
    "    print(\"Reject the null hypothesis\")\n",
    "    print(\"Conclusion: The proportion of female students in the top 1% is higher than male students.\")\n",
    "else:\n",
    "    print(\"Fail to reject the null hypothesis\")\n",
    "    print(\"Conclusion: No evidence that the proportion of female students in the top 1% is higher.\")\n"
   ]
  }
 ],
 "metadata": {
  "kernelspec": {
   "display_name": "Python 3 (ipykernel)",
   "language": "python",
   "name": "python3"
  },
  "language_info": {
   "codemirror_mode": {
    "name": "ipython",
    "version": 3
   },
   "file_extension": ".py",
   "mimetype": "text/x-python",
   "name": "python",
   "nbconvert_exporter": "python",
   "pygments_lexer": "ipython3",
   "version": "3.9.12"
  }
 },
 "nbformat": 4,
 "nbformat_minor": 5
}
